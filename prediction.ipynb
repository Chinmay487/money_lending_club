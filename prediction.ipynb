{
 "cells": [
  {
   "cell_type": "code",
   "execution_count": 1,
   "id": "4f9e7d19",
   "metadata": {},
   "outputs": [],
   "source": [
    "import pandas as pd\n",
    "import numpy as np\n",
    "from sklearn.model_selection import train_test_split\n",
    "from sklearn.preprocessing import LabelEncoder\n",
    "from sklearn.tree import DecisionTreeClassifier\n",
    "from sklearn.metrics import confusion_matrix"
   ]
  },
  {
   "cell_type": "code",
   "execution_count": 2,
   "id": "064c2dcc",
   "metadata": {},
   "outputs": [],
   "source": [
    "df = pd.read_csv(\"data_updated_1.csv\",low_memory=False)"
   ]
  },
  {
   "cell_type": "code",
   "execution_count": null,
   "id": "55c10a53",
   "metadata": {},
   "outputs": [],
   "source": []
  },
  {
   "cell_type": "code",
   "execution_count": 3,
   "id": "02909fde",
   "metadata": {},
   "outputs": [
    {
     "data": {
      "text/html": [
       "<div>\n",
       "<style scoped>\n",
       "    .dataframe tbody tr th:only-of-type {\n",
       "        vertical-align: middle;\n",
       "    }\n",
       "\n",
       "    .dataframe tbody tr th {\n",
       "        vertical-align: top;\n",
       "    }\n",
       "\n",
       "    .dataframe thead th {\n",
       "        text-align: right;\n",
       "    }\n",
       "</style>\n",
       "<table border=\"1\" class=\"dataframe\">\n",
       "  <thead>\n",
       "    <tr style=\"text-align: right;\">\n",
       "      <th></th>\n",
       "      <th>loan_amnt</th>\n",
       "      <th>term</th>\n",
       "      <th>int_rate</th>\n",
       "      <th>installment</th>\n",
       "      <th>emp_length</th>\n",
       "      <th>annual_inc</th>\n",
       "      <th>loan_status</th>\n",
       "      <th>pub_rec</th>\n",
       "      <th>revol_util</th>\n",
       "      <th>total_acc</th>\n",
       "      <th>total_pymnt</th>\n",
       "      <th>total_rec_late_fee</th>\n",
       "      <th>pub_rec_bankruptcies</th>\n",
       "      <th>last_pymnt_month</th>\n",
       "      <th>last_pymnt_year</th>\n",
       "      <th>issue_year</th>\n",
       "      <th>issue_month</th>\n",
       "    </tr>\n",
       "  </thead>\n",
       "  <tbody>\n",
       "    <tr>\n",
       "      <th>0</th>\n",
       "      <td>5000</td>\n",
       "      <td>36</td>\n",
       "      <td>10.65</td>\n",
       "      <td>162.87</td>\n",
       "      <td>10+ years</td>\n",
       "      <td>24000.0</td>\n",
       "      <td>Fully Paid</td>\n",
       "      <td>0.0</td>\n",
       "      <td>83.7%</td>\n",
       "      <td>9.0</td>\n",
       "      <td>5863.155187</td>\n",
       "      <td>0.00</td>\n",
       "      <td>0.0</td>\n",
       "      <td>1.0</td>\n",
       "      <td>2015.0</td>\n",
       "      <td>2011</td>\n",
       "      <td>12</td>\n",
       "    </tr>\n",
       "    <tr>\n",
       "      <th>1</th>\n",
       "      <td>2500</td>\n",
       "      <td>60</td>\n",
       "      <td>15.27</td>\n",
       "      <td>59.83</td>\n",
       "      <td>&lt; 1 year</td>\n",
       "      <td>30000.0</td>\n",
       "      <td>Charged Off</td>\n",
       "      <td>0.0</td>\n",
       "      <td>9.4%</td>\n",
       "      <td>4.0</td>\n",
       "      <td>1008.710000</td>\n",
       "      <td>0.00</td>\n",
       "      <td>0.0</td>\n",
       "      <td>4.0</td>\n",
       "      <td>2013.0</td>\n",
       "      <td>2011</td>\n",
       "      <td>12</td>\n",
       "    </tr>\n",
       "    <tr>\n",
       "      <th>2</th>\n",
       "      <td>2400</td>\n",
       "      <td>36</td>\n",
       "      <td>15.96</td>\n",
       "      <td>84.33</td>\n",
       "      <td>10+ years</td>\n",
       "      <td>12252.0</td>\n",
       "      <td>Fully Paid</td>\n",
       "      <td>0.0</td>\n",
       "      <td>98.5%</td>\n",
       "      <td>10.0</td>\n",
       "      <td>3005.666844</td>\n",
       "      <td>0.00</td>\n",
       "      <td>0.0</td>\n",
       "      <td>6.0</td>\n",
       "      <td>2014.0</td>\n",
       "      <td>2011</td>\n",
       "      <td>12</td>\n",
       "    </tr>\n",
       "    <tr>\n",
       "      <th>3</th>\n",
       "      <td>10000</td>\n",
       "      <td>36</td>\n",
       "      <td>13.49</td>\n",
       "      <td>339.31</td>\n",
       "      <td>10+ years</td>\n",
       "      <td>49200.0</td>\n",
       "      <td>Fully Paid</td>\n",
       "      <td>0.0</td>\n",
       "      <td>21%</td>\n",
       "      <td>37.0</td>\n",
       "      <td>12231.890000</td>\n",
       "      <td>16.97</td>\n",
       "      <td>0.0</td>\n",
       "      <td>1.0</td>\n",
       "      <td>2015.0</td>\n",
       "      <td>2011</td>\n",
       "      <td>12</td>\n",
       "    </tr>\n",
       "    <tr>\n",
       "      <th>4</th>\n",
       "      <td>3000</td>\n",
       "      <td>60</td>\n",
       "      <td>12.69</td>\n",
       "      <td>67.79</td>\n",
       "      <td>1 year</td>\n",
       "      <td>80000.0</td>\n",
       "      <td>Current</td>\n",
       "      <td>0.0</td>\n",
       "      <td>53.9%</td>\n",
       "      <td>38.0</td>\n",
       "      <td>3784.490000</td>\n",
       "      <td>0.00</td>\n",
       "      <td>0.0</td>\n",
       "      <td>9.0</td>\n",
       "      <td>2016.0</td>\n",
       "      <td>2011</td>\n",
       "      <td>12</td>\n",
       "    </tr>\n",
       "  </tbody>\n",
       "</table>\n",
       "</div>"
      ],
      "text/plain": [
       "   loan_amnt  term  int_rate  installment emp_length  annual_inc  loan_status  \\\n",
       "0       5000    36     10.65       162.87  10+ years     24000.0   Fully Paid   \n",
       "1       2500    60     15.27        59.83   < 1 year     30000.0  Charged Off   \n",
       "2       2400    36     15.96        84.33  10+ years     12252.0   Fully Paid   \n",
       "3      10000    36     13.49       339.31  10+ years     49200.0   Fully Paid   \n",
       "4       3000    60     12.69        67.79     1 year     80000.0      Current   \n",
       "\n",
       "   pub_rec revol_util  total_acc   total_pymnt  total_rec_late_fee  \\\n",
       "0      0.0      83.7%        9.0   5863.155187                0.00   \n",
       "1      0.0       9.4%        4.0   1008.710000                0.00   \n",
       "2      0.0      98.5%       10.0   3005.666844                0.00   \n",
       "3      0.0        21%       37.0  12231.890000               16.97   \n",
       "4      0.0      53.9%       38.0   3784.490000                0.00   \n",
       "\n",
       "   pub_rec_bankruptcies  last_pymnt_month  last_pymnt_year  issue_year  \\\n",
       "0                   0.0               1.0           2015.0        2011   \n",
       "1                   0.0               4.0           2013.0        2011   \n",
       "2                   0.0               6.0           2014.0        2011   \n",
       "3                   0.0               1.0           2015.0        2011   \n",
       "4                   0.0               9.0           2016.0        2011   \n",
       "\n",
       "   issue_month  \n",
       "0           12  \n",
       "1           12  \n",
       "2           12  \n",
       "3           12  \n",
       "4           12  "
      ]
     },
     "execution_count": 3,
     "metadata": {},
     "output_type": "execute_result"
    }
   ],
   "source": [
    "df.head()"
   ]
  },
  {
   "cell_type": "code",
   "execution_count": 4,
   "id": "a394d29b",
   "metadata": {
    "scrolled": true
   },
   "outputs": [
    {
     "data": {
      "text/plain": [
       "Fully Paid                                             33586\n",
       "Charged Off                                             5653\n",
       "Does not meet the credit policy. Status:Fully Paid      1988\n",
       "Does not meet the credit policy. Status:Charged Off      761\n",
       "Current                                                  513\n",
       "In Grace Period                                           16\n",
       "Late (31-120 days)                                        12\n",
       "Late (16-30 days)                                          5\n",
       "Default                                                    1\n",
       "Name: loan_status, dtype: int64"
      ]
     },
     "execution_count": 4,
     "metadata": {},
     "output_type": "execute_result"
    }
   ],
   "source": [
    "df[\"loan_status\"].value_counts()"
   ]
  },
  {
   "cell_type": "markdown",
   "id": "b389f895",
   "metadata": {},
   "source": [
    "fully paid ,current,grace period,16 - 30 days late chalega\n",
    "else nahi chalega"
   ]
  },
  {
   "cell_type": "code",
   "execution_count": 5,
   "id": "593e4d21",
   "metadata": {},
   "outputs": [],
   "source": [
    "df_copy = df.copy()"
   ]
  },
  {
   "cell_type": "code",
   "execution_count": 6,
   "id": "8407ad3c",
   "metadata": {},
   "outputs": [],
   "source": [
    "le = LabelEncoder()"
   ]
  },
  {
   "cell_type": "code",
   "execution_count": 7,
   "id": "b238892b",
   "metadata": {},
   "outputs": [],
   "source": [
    "df_copy[\"emp_length_en\"] = le.fit_transform(df_copy[\"emp_length\"])"
   ]
  },
  {
   "cell_type": "code",
   "execution_count": 8,
   "id": "b8daf1eb",
   "metadata": {},
   "outputs": [
    {
     "data": {
      "text/html": [
       "<div>\n",
       "<style scoped>\n",
       "    .dataframe tbody tr th:only-of-type {\n",
       "        vertical-align: middle;\n",
       "    }\n",
       "\n",
       "    .dataframe tbody tr th {\n",
       "        vertical-align: top;\n",
       "    }\n",
       "\n",
       "    .dataframe thead th {\n",
       "        text-align: right;\n",
       "    }\n",
       "</style>\n",
       "<table border=\"1\" class=\"dataframe\">\n",
       "  <thead>\n",
       "    <tr style=\"text-align: right;\">\n",
       "      <th></th>\n",
       "      <th>loan_amnt</th>\n",
       "      <th>term</th>\n",
       "      <th>int_rate</th>\n",
       "      <th>installment</th>\n",
       "      <th>emp_length</th>\n",
       "      <th>annual_inc</th>\n",
       "      <th>loan_status</th>\n",
       "      <th>pub_rec</th>\n",
       "      <th>revol_util</th>\n",
       "      <th>total_acc</th>\n",
       "      <th>total_pymnt</th>\n",
       "      <th>total_rec_late_fee</th>\n",
       "      <th>pub_rec_bankruptcies</th>\n",
       "      <th>last_pymnt_month</th>\n",
       "      <th>last_pymnt_year</th>\n",
       "      <th>issue_year</th>\n",
       "      <th>issue_month</th>\n",
       "      <th>emp_length_en</th>\n",
       "    </tr>\n",
       "  </thead>\n",
       "  <tbody>\n",
       "    <tr>\n",
       "      <th>0</th>\n",
       "      <td>5000</td>\n",
       "      <td>36</td>\n",
       "      <td>10.65</td>\n",
       "      <td>162.87</td>\n",
       "      <td>10+ years</td>\n",
       "      <td>24000.0</td>\n",
       "      <td>Fully Paid</td>\n",
       "      <td>0.0</td>\n",
       "      <td>83.7%</td>\n",
       "      <td>9.0</td>\n",
       "      <td>5863.155187</td>\n",
       "      <td>0.00</td>\n",
       "      <td>0.0</td>\n",
       "      <td>1.0</td>\n",
       "      <td>2015.0</td>\n",
       "      <td>2011</td>\n",
       "      <td>12</td>\n",
       "      <td>1</td>\n",
       "    </tr>\n",
       "    <tr>\n",
       "      <th>1</th>\n",
       "      <td>2500</td>\n",
       "      <td>60</td>\n",
       "      <td>15.27</td>\n",
       "      <td>59.83</td>\n",
       "      <td>&lt; 1 year</td>\n",
       "      <td>30000.0</td>\n",
       "      <td>Charged Off</td>\n",
       "      <td>0.0</td>\n",
       "      <td>9.4%</td>\n",
       "      <td>4.0</td>\n",
       "      <td>1008.710000</td>\n",
       "      <td>0.00</td>\n",
       "      <td>0.0</td>\n",
       "      <td>4.0</td>\n",
       "      <td>2013.0</td>\n",
       "      <td>2011</td>\n",
       "      <td>12</td>\n",
       "      <td>10</td>\n",
       "    </tr>\n",
       "    <tr>\n",
       "      <th>2</th>\n",
       "      <td>2400</td>\n",
       "      <td>36</td>\n",
       "      <td>15.96</td>\n",
       "      <td>84.33</td>\n",
       "      <td>10+ years</td>\n",
       "      <td>12252.0</td>\n",
       "      <td>Fully Paid</td>\n",
       "      <td>0.0</td>\n",
       "      <td>98.5%</td>\n",
       "      <td>10.0</td>\n",
       "      <td>3005.666844</td>\n",
       "      <td>0.00</td>\n",
       "      <td>0.0</td>\n",
       "      <td>6.0</td>\n",
       "      <td>2014.0</td>\n",
       "      <td>2011</td>\n",
       "      <td>12</td>\n",
       "      <td>1</td>\n",
       "    </tr>\n",
       "    <tr>\n",
       "      <th>3</th>\n",
       "      <td>10000</td>\n",
       "      <td>36</td>\n",
       "      <td>13.49</td>\n",
       "      <td>339.31</td>\n",
       "      <td>10+ years</td>\n",
       "      <td>49200.0</td>\n",
       "      <td>Fully Paid</td>\n",
       "      <td>0.0</td>\n",
       "      <td>21%</td>\n",
       "      <td>37.0</td>\n",
       "      <td>12231.890000</td>\n",
       "      <td>16.97</td>\n",
       "      <td>0.0</td>\n",
       "      <td>1.0</td>\n",
       "      <td>2015.0</td>\n",
       "      <td>2011</td>\n",
       "      <td>12</td>\n",
       "      <td>1</td>\n",
       "    </tr>\n",
       "    <tr>\n",
       "      <th>4</th>\n",
       "      <td>3000</td>\n",
       "      <td>60</td>\n",
       "      <td>12.69</td>\n",
       "      <td>67.79</td>\n",
       "      <td>1 year</td>\n",
       "      <td>80000.0</td>\n",
       "      <td>Current</td>\n",
       "      <td>0.0</td>\n",
       "      <td>53.9%</td>\n",
       "      <td>38.0</td>\n",
       "      <td>3784.490000</td>\n",
       "      <td>0.00</td>\n",
       "      <td>0.0</td>\n",
       "      <td>9.0</td>\n",
       "      <td>2016.0</td>\n",
       "      <td>2011</td>\n",
       "      <td>12</td>\n",
       "      <td>0</td>\n",
       "    </tr>\n",
       "  </tbody>\n",
       "</table>\n",
       "</div>"
      ],
      "text/plain": [
       "   loan_amnt  term  int_rate  installment emp_length  annual_inc  loan_status  \\\n",
       "0       5000    36     10.65       162.87  10+ years     24000.0   Fully Paid   \n",
       "1       2500    60     15.27        59.83   < 1 year     30000.0  Charged Off   \n",
       "2       2400    36     15.96        84.33  10+ years     12252.0   Fully Paid   \n",
       "3      10000    36     13.49       339.31  10+ years     49200.0   Fully Paid   \n",
       "4       3000    60     12.69        67.79     1 year     80000.0      Current   \n",
       "\n",
       "   pub_rec revol_util  total_acc   total_pymnt  total_rec_late_fee  \\\n",
       "0      0.0      83.7%        9.0   5863.155187                0.00   \n",
       "1      0.0       9.4%        4.0   1008.710000                0.00   \n",
       "2      0.0      98.5%       10.0   3005.666844                0.00   \n",
       "3      0.0        21%       37.0  12231.890000               16.97   \n",
       "4      0.0      53.9%       38.0   3784.490000                0.00   \n",
       "\n",
       "   pub_rec_bankruptcies  last_pymnt_month  last_pymnt_year  issue_year  \\\n",
       "0                   0.0               1.0           2015.0        2011   \n",
       "1                   0.0               4.0           2013.0        2011   \n",
       "2                   0.0               6.0           2014.0        2011   \n",
       "3                   0.0               1.0           2015.0        2011   \n",
       "4                   0.0               9.0           2016.0        2011   \n",
       "\n",
       "   issue_month  emp_length_en  \n",
       "0           12              1  \n",
       "1           12             10  \n",
       "2           12              1  \n",
       "3           12              1  \n",
       "4           12              0  "
      ]
     },
     "execution_count": 8,
     "metadata": {},
     "output_type": "execute_result"
    }
   ],
   "source": [
    "df_copy.head()"
   ]
  },
  {
   "cell_type": "code",
   "execution_count": 9,
   "id": "541cc957",
   "metadata": {},
   "outputs": [
    {
     "data": {
      "text/plain": [
       "1     9369\n",
       "10    5062\n",
       "2     4743\n",
       "3     4364\n",
       "4     3649\n",
       "0     3595\n",
       "5     3458\n",
       "6     2375\n",
       "7     1875\n",
       "8     1592\n",
       "9     1341\n",
       "11    1112\n",
       "Name: emp_length_en, dtype: int64"
      ]
     },
     "execution_count": 9,
     "metadata": {},
     "output_type": "execute_result"
    }
   ],
   "source": [
    "df_copy[\"emp_length_en\"].value_counts()"
   ]
  },
  {
   "cell_type": "code",
   "execution_count": 10,
   "id": "7fe0329f",
   "metadata": {},
   "outputs": [
    {
     "data": {
      "text/html": [
       "<div>\n",
       "<style scoped>\n",
       "    .dataframe tbody tr th:only-of-type {\n",
       "        vertical-align: middle;\n",
       "    }\n",
       "\n",
       "    .dataframe tbody tr th {\n",
       "        vertical-align: top;\n",
       "    }\n",
       "\n",
       "    .dataframe thead th {\n",
       "        text-align: right;\n",
       "    }\n",
       "</style>\n",
       "<table border=\"1\" class=\"dataframe\">\n",
       "  <thead>\n",
       "    <tr style=\"text-align: right;\">\n",
       "      <th></th>\n",
       "      <th>loan_amnt</th>\n",
       "      <th>term</th>\n",
       "      <th>int_rate</th>\n",
       "      <th>installment</th>\n",
       "      <th>emp_length</th>\n",
       "      <th>annual_inc</th>\n",
       "      <th>loan_status</th>\n",
       "      <th>pub_rec</th>\n",
       "      <th>revol_util</th>\n",
       "      <th>total_acc</th>\n",
       "      <th>total_pymnt</th>\n",
       "      <th>total_rec_late_fee</th>\n",
       "      <th>pub_rec_bankruptcies</th>\n",
       "      <th>last_pymnt_month</th>\n",
       "      <th>last_pymnt_year</th>\n",
       "      <th>issue_year</th>\n",
       "      <th>issue_month</th>\n",
       "      <th>emp_length_en</th>\n",
       "    </tr>\n",
       "  </thead>\n",
       "  <tbody>\n",
       "    <tr>\n",
       "      <th>20645</th>\n",
       "      <td>16000</td>\n",
       "      <td>60</td>\n",
       "      <td>16.4</td>\n",
       "      <td>392.5</td>\n",
       "      <td>1 year</td>\n",
       "      <td>70000.0</td>\n",
       "      <td>Default</td>\n",
       "      <td>1.0</td>\n",
       "      <td>40.1%</td>\n",
       "      <td>18.0</td>\n",
       "      <td>23126.44</td>\n",
       "      <td>0.0</td>\n",
       "      <td>1.0</td>\n",
       "      <td>1.0</td>\n",
       "      <td>2016.0</td>\n",
       "      <td>2011</td>\n",
       "      <td>2</td>\n",
       "      <td>0</td>\n",
       "    </tr>\n",
       "  </tbody>\n",
       "</table>\n",
       "</div>"
      ],
      "text/plain": [
       "       loan_amnt  term  int_rate  installment emp_length  annual_inc  \\\n",
       "20645      16000    60      16.4        392.5     1 year     70000.0   \n",
       "\n",
       "      loan_status  pub_rec revol_util  total_acc  total_pymnt  \\\n",
       "20645     Default      1.0      40.1%       18.0     23126.44   \n",
       "\n",
       "       total_rec_late_fee  pub_rec_bankruptcies  last_pymnt_month  \\\n",
       "20645                 0.0                   1.0               1.0   \n",
       "\n",
       "       last_pymnt_year  issue_year  issue_month  emp_length_en  \n",
       "20645           2016.0        2011            2              0  "
      ]
     },
     "execution_count": 10,
     "metadata": {},
     "output_type": "execute_result"
    }
   ],
   "source": [
    "df_copy[df_copy[\"loan_status\"] == \"Default\"]"
   ]
  },
  {
   "cell_type": "code",
   "execution_count": 11,
   "id": "89a49b1f",
   "metadata": {},
   "outputs": [],
   "source": [
    "df_copy = df_copy.drop(20645)"
   ]
  },
  {
   "cell_type": "code",
   "execution_count": 12,
   "id": "57711e1d",
   "metadata": {},
   "outputs": [
    {
     "data": {
      "text/plain": [
       "Fully Paid                                             33586\n",
       "Charged Off                                             5653\n",
       "Does not meet the credit policy. Status:Fully Paid      1988\n",
       "Does not meet the credit policy. Status:Charged Off      761\n",
       "Current                                                  513\n",
       "In Grace Period                                           16\n",
       "Late (31-120 days)                                        12\n",
       "Late (16-30 days)                                          5\n",
       "Name: loan_status, dtype: int64"
      ]
     },
     "execution_count": 12,
     "metadata": {},
     "output_type": "execute_result"
    }
   ],
   "source": [
    "df_copy['loan_status'].value_counts()"
   ]
  },
  {
   "cell_type": "code",
   "execution_count": 13,
   "id": "0e380c7d",
   "metadata": {},
   "outputs": [],
   "source": [
    "df_copy[\"loan_status_en\"] = le.fit_transform(df_copy[\"loan_status\"])"
   ]
  },
  {
   "cell_type": "code",
   "execution_count": 14,
   "id": "599b7b9d",
   "metadata": {},
   "outputs": [
    {
     "data": {
      "text/plain": [
       "4    33586\n",
       "0     5653\n",
       "3     1988\n",
       "2      761\n",
       "1      513\n",
       "5       16\n",
       "7       12\n",
       "6        5\n",
       "Name: loan_status_en, dtype: int64"
      ]
     },
     "execution_count": 14,
     "metadata": {},
     "output_type": "execute_result"
    }
   ],
   "source": [
    "df_copy[\"loan_status_en\"].value_counts()"
   ]
  },
  {
   "cell_type": "code",
   "execution_count": 15,
   "id": "4152b59c",
   "metadata": {},
   "outputs": [
    {
     "data": {
      "text/html": [
       "<div>\n",
       "<style scoped>\n",
       "    .dataframe tbody tr th:only-of-type {\n",
       "        vertical-align: middle;\n",
       "    }\n",
       "\n",
       "    .dataframe tbody tr th {\n",
       "        vertical-align: top;\n",
       "    }\n",
       "\n",
       "    .dataframe thead th {\n",
       "        text-align: right;\n",
       "    }\n",
       "</style>\n",
       "<table border=\"1\" class=\"dataframe\">\n",
       "  <thead>\n",
       "    <tr style=\"text-align: right;\">\n",
       "      <th></th>\n",
       "      <th>loan_status_en</th>\n",
       "      <th>loan_status</th>\n",
       "    </tr>\n",
       "  </thead>\n",
       "  <tbody>\n",
       "    <tr>\n",
       "      <th>0</th>\n",
       "      <td>4</td>\n",
       "      <td>Fully Paid</td>\n",
       "    </tr>\n",
       "    <tr>\n",
       "      <th>1</th>\n",
       "      <td>0</td>\n",
       "      <td>Charged Off</td>\n",
       "    </tr>\n",
       "    <tr>\n",
       "      <th>2</th>\n",
       "      <td>4</td>\n",
       "      <td>Fully Paid</td>\n",
       "    </tr>\n",
       "    <tr>\n",
       "      <th>3</th>\n",
       "      <td>4</td>\n",
       "      <td>Fully Paid</td>\n",
       "    </tr>\n",
       "    <tr>\n",
       "      <th>4</th>\n",
       "      <td>1</td>\n",
       "      <td>Current</td>\n",
       "    </tr>\n",
       "  </tbody>\n",
       "</table>\n",
       "</div>"
      ],
      "text/plain": [
       "   loan_status_en  loan_status\n",
       "0               4   Fully Paid\n",
       "1               0  Charged Off\n",
       "2               4   Fully Paid\n",
       "3               4   Fully Paid\n",
       "4               1      Current"
      ]
     },
     "execution_count": 15,
     "metadata": {},
     "output_type": "execute_result"
    }
   ],
   "source": [
    "df_copy[[\"loan_status_en\",\"loan_status\"]].head()"
   ]
  },
  {
   "cell_type": "code",
   "execution_count": 16,
   "id": "00d70a81",
   "metadata": {},
   "outputs": [
    {
     "data": {
      "text/plain": [
       "(42534, 19)"
      ]
     },
     "execution_count": 16,
     "metadata": {},
     "output_type": "execute_result"
    }
   ],
   "source": [
    "df_copy.shape"
   ]
  },
  {
   "cell_type": "code",
   "execution_count": 17,
   "id": "696a2a77",
   "metadata": {},
   "outputs": [
    {
     "data": {
      "text/html": [
       "<div>\n",
       "<style scoped>\n",
       "    .dataframe tbody tr th:only-of-type {\n",
       "        vertical-align: middle;\n",
       "    }\n",
       "\n",
       "    .dataframe tbody tr th {\n",
       "        vertical-align: top;\n",
       "    }\n",
       "\n",
       "    .dataframe thead th {\n",
       "        text-align: right;\n",
       "    }\n",
       "</style>\n",
       "<table border=\"1\" class=\"dataframe\">\n",
       "  <thead>\n",
       "    <tr style=\"text-align: right;\">\n",
       "      <th></th>\n",
       "      <th>loan_amnt</th>\n",
       "      <th>term</th>\n",
       "      <th>int_rate</th>\n",
       "      <th>installment</th>\n",
       "      <th>emp_length</th>\n",
       "      <th>annual_inc</th>\n",
       "      <th>loan_status</th>\n",
       "      <th>pub_rec</th>\n",
       "      <th>revol_util</th>\n",
       "      <th>total_acc</th>\n",
       "      <th>total_pymnt</th>\n",
       "      <th>total_rec_late_fee</th>\n",
       "      <th>pub_rec_bankruptcies</th>\n",
       "      <th>last_pymnt_month</th>\n",
       "      <th>last_pymnt_year</th>\n",
       "      <th>issue_year</th>\n",
       "      <th>issue_month</th>\n",
       "      <th>emp_length_en</th>\n",
       "      <th>loan_status_en</th>\n",
       "    </tr>\n",
       "  </thead>\n",
       "  <tbody>\n",
       "    <tr>\n",
       "      <th>0</th>\n",
       "      <td>5000</td>\n",
       "      <td>36</td>\n",
       "      <td>10.65</td>\n",
       "      <td>162.87</td>\n",
       "      <td>10+ years</td>\n",
       "      <td>24000.0</td>\n",
       "      <td>Fully Paid</td>\n",
       "      <td>0.0</td>\n",
       "      <td>83.7%</td>\n",
       "      <td>9.0</td>\n",
       "      <td>5863.155187</td>\n",
       "      <td>0.00</td>\n",
       "      <td>0.0</td>\n",
       "      <td>1.0</td>\n",
       "      <td>2015.0</td>\n",
       "      <td>2011</td>\n",
       "      <td>12</td>\n",
       "      <td>1</td>\n",
       "      <td>4</td>\n",
       "    </tr>\n",
       "    <tr>\n",
       "      <th>1</th>\n",
       "      <td>2500</td>\n",
       "      <td>60</td>\n",
       "      <td>15.27</td>\n",
       "      <td>59.83</td>\n",
       "      <td>&lt; 1 year</td>\n",
       "      <td>30000.0</td>\n",
       "      <td>Charged Off</td>\n",
       "      <td>0.0</td>\n",
       "      <td>9.4%</td>\n",
       "      <td>4.0</td>\n",
       "      <td>1008.710000</td>\n",
       "      <td>0.00</td>\n",
       "      <td>0.0</td>\n",
       "      <td>4.0</td>\n",
       "      <td>2013.0</td>\n",
       "      <td>2011</td>\n",
       "      <td>12</td>\n",
       "      <td>10</td>\n",
       "      <td>0</td>\n",
       "    </tr>\n",
       "    <tr>\n",
       "      <th>2</th>\n",
       "      <td>2400</td>\n",
       "      <td>36</td>\n",
       "      <td>15.96</td>\n",
       "      <td>84.33</td>\n",
       "      <td>10+ years</td>\n",
       "      <td>12252.0</td>\n",
       "      <td>Fully Paid</td>\n",
       "      <td>0.0</td>\n",
       "      <td>98.5%</td>\n",
       "      <td>10.0</td>\n",
       "      <td>3005.666844</td>\n",
       "      <td>0.00</td>\n",
       "      <td>0.0</td>\n",
       "      <td>6.0</td>\n",
       "      <td>2014.0</td>\n",
       "      <td>2011</td>\n",
       "      <td>12</td>\n",
       "      <td>1</td>\n",
       "      <td>4</td>\n",
       "    </tr>\n",
       "    <tr>\n",
       "      <th>3</th>\n",
       "      <td>10000</td>\n",
       "      <td>36</td>\n",
       "      <td>13.49</td>\n",
       "      <td>339.31</td>\n",
       "      <td>10+ years</td>\n",
       "      <td>49200.0</td>\n",
       "      <td>Fully Paid</td>\n",
       "      <td>0.0</td>\n",
       "      <td>21%</td>\n",
       "      <td>37.0</td>\n",
       "      <td>12231.890000</td>\n",
       "      <td>16.97</td>\n",
       "      <td>0.0</td>\n",
       "      <td>1.0</td>\n",
       "      <td>2015.0</td>\n",
       "      <td>2011</td>\n",
       "      <td>12</td>\n",
       "      <td>1</td>\n",
       "      <td>4</td>\n",
       "    </tr>\n",
       "    <tr>\n",
       "      <th>4</th>\n",
       "      <td>3000</td>\n",
       "      <td>60</td>\n",
       "      <td>12.69</td>\n",
       "      <td>67.79</td>\n",
       "      <td>1 year</td>\n",
       "      <td>80000.0</td>\n",
       "      <td>Current</td>\n",
       "      <td>0.0</td>\n",
       "      <td>53.9%</td>\n",
       "      <td>38.0</td>\n",
       "      <td>3784.490000</td>\n",
       "      <td>0.00</td>\n",
       "      <td>0.0</td>\n",
       "      <td>9.0</td>\n",
       "      <td>2016.0</td>\n",
       "      <td>2011</td>\n",
       "      <td>12</td>\n",
       "      <td>0</td>\n",
       "      <td>1</td>\n",
       "    </tr>\n",
       "  </tbody>\n",
       "</table>\n",
       "</div>"
      ],
      "text/plain": [
       "   loan_amnt  term  int_rate  installment emp_length  annual_inc  loan_status  \\\n",
       "0       5000    36     10.65       162.87  10+ years     24000.0   Fully Paid   \n",
       "1       2500    60     15.27        59.83   < 1 year     30000.0  Charged Off   \n",
       "2       2400    36     15.96        84.33  10+ years     12252.0   Fully Paid   \n",
       "3      10000    36     13.49       339.31  10+ years     49200.0   Fully Paid   \n",
       "4       3000    60     12.69        67.79     1 year     80000.0      Current   \n",
       "\n",
       "   pub_rec revol_util  total_acc   total_pymnt  total_rec_late_fee  \\\n",
       "0      0.0      83.7%        9.0   5863.155187                0.00   \n",
       "1      0.0       9.4%        4.0   1008.710000                0.00   \n",
       "2      0.0      98.5%       10.0   3005.666844                0.00   \n",
       "3      0.0        21%       37.0  12231.890000               16.97   \n",
       "4      0.0      53.9%       38.0   3784.490000                0.00   \n",
       "\n",
       "   pub_rec_bankruptcies  last_pymnt_month  last_pymnt_year  issue_year  \\\n",
       "0                   0.0               1.0           2015.0        2011   \n",
       "1                   0.0               4.0           2013.0        2011   \n",
       "2                   0.0               6.0           2014.0        2011   \n",
       "3                   0.0               1.0           2015.0        2011   \n",
       "4                   0.0               9.0           2016.0        2011   \n",
       "\n",
       "   issue_month  emp_length_en  loan_status_en  \n",
       "0           12              1               4  \n",
       "1           12             10               0  \n",
       "2           12              1               4  \n",
       "3           12              1               4  \n",
       "4           12              0               1  "
      ]
     },
     "execution_count": 17,
     "metadata": {},
     "output_type": "execute_result"
    }
   ],
   "source": [
    "df_copy.head()"
   ]
  },
  {
   "cell_type": "code",
   "execution_count": 18,
   "id": "71f99fe7",
   "metadata": {},
   "outputs": [
    {
     "name": "stdout",
     "output_type": "stream",
     "text": [
      "loan_amnt 0\n",
      "term 0\n",
      "int_rate 0\n",
      "installment 0\n",
      "emp_length 1112\n",
      "annual_inc 4\n",
      "loan_status 0\n",
      "pub_rec 29\n",
      "revol_util 90\n",
      "total_acc 29\n",
      "total_pymnt 0\n",
      "total_rec_late_fee 0\n",
      "pub_rec_bankruptcies 1365\n",
      "last_pymnt_month 83\n",
      "last_pymnt_year 83\n",
      "issue_year 0\n",
      "issue_month 0\n",
      "emp_length_en 0\n",
      "loan_status_en 0\n"
     ]
    }
   ],
   "source": [
    "for col in df_copy.columns:\n",
    "    print(col,df_copy[col].isnull().sum())"
   ]
  },
  {
   "cell_type": "code",
   "execution_count": 19,
   "id": "4f160b68",
   "metadata": {},
   "outputs": [],
   "source": [
    "df_copy = df_copy[df_copy['emp_length'].notna()]"
   ]
  },
  {
   "cell_type": "code",
   "execution_count": 20,
   "id": "4a3297f4",
   "metadata": {},
   "outputs": [],
   "source": [
    "df_copy = df_copy[df_copy['annual_inc'].notna()]"
   ]
  },
  {
   "cell_type": "code",
   "execution_count": 21,
   "id": "04ebf49e",
   "metadata": {},
   "outputs": [
    {
     "data": {
      "text/plain": [
       "0"
      ]
     },
     "execution_count": 21,
     "metadata": {},
     "output_type": "execute_result"
    }
   ],
   "source": [
    "df_copy[\"annual_inc\"].isnull().sum()"
   ]
  },
  {
   "cell_type": "code",
   "execution_count": 22,
   "id": "00b7dcf7",
   "metadata": {},
   "outputs": [],
   "source": [
    "df_copy = df_copy[df_copy['last_pymnt_year'].notna()]"
   ]
  },
  {
   "cell_type": "code",
   "execution_count": 23,
   "id": "bc6baa06",
   "metadata": {},
   "outputs": [],
   "source": [
    "def update_revol_unit(value):\n",
    "    return eval(value.replace(\"%\",\"\").replace(\" \",\"\")) "
   ]
  },
  {
   "cell_type": "code",
   "execution_count": 24,
   "id": "cb7f069b",
   "metadata": {},
   "outputs": [
    {
     "data": {
      "text/plain": [
       "0    83.7\n",
       "1     9.4\n",
       "2    98.5\n",
       "3    21.0\n",
       "4    53.9\n",
       "Name: revol_util, dtype: float64"
      ]
     },
     "execution_count": 24,
     "metadata": {},
     "output_type": "execute_result"
    }
   ],
   "source": [
    "df_revol_util = df_copy[\"revol_util\"].copy()\n",
    "df_revol_util = df_revol_util.fillna(\"0\")\n",
    "new_revol_util = map(update_revol_unit,df_revol_util)\n",
    "new_revol_util = list(new_revol_util)\n",
    "df_copy[\"revol_util\"] = pd.Series(new_revol_util)\n",
    "df_copy[\"revol_util\"].head()"
   ]
  },
  {
   "cell_type": "code",
   "execution_count": 25,
   "id": "2ad7fb47",
   "metadata": {},
   "outputs": [
    {
     "data": {
      "text/plain": [
       "1189"
      ]
     },
     "execution_count": 25,
     "metadata": {},
     "output_type": "execute_result"
    }
   ],
   "source": [
    "df_copy[\"revol_util\"].isnull().sum()"
   ]
  },
  {
   "cell_type": "code",
   "execution_count": null,
   "id": "3ce82f1f",
   "metadata": {},
   "outputs": [],
   "source": []
  },
  {
   "cell_type": "code",
   "execution_count": null,
   "id": "782ece9a",
   "metadata": {},
   "outputs": [],
   "source": []
  },
  {
   "cell_type": "code",
   "execution_count": 26,
   "id": "9626da1f",
   "metadata": {},
   "outputs": [],
   "source": [
    "def replace_na(col_name,value=0):\n",
    "    df_copy[col_name] = df_copy[col_name].fillna(0)"
   ]
  },
  {
   "cell_type": "code",
   "execution_count": 27,
   "id": "ae0ea917",
   "metadata": {},
   "outputs": [],
   "source": [
    "replace_na(col_name = \"pub_rec\")\n",
    "replace_na(col_name = \"revol_util\")\n",
    "replace_na(col_name = \"total_acc\")\n",
    "replace_na(col_name = \"pub_rec_bankruptcies\")"
   ]
  },
  {
   "cell_type": "code",
   "execution_count": 28,
   "id": "82740a44",
   "metadata": {},
   "outputs": [
    {
     "name": "stdout",
     "output_type": "stream",
     "text": [
      "loan_amnt 0\n",
      "term 0\n",
      "int_rate 0\n",
      "installment 0\n",
      "emp_length 0\n",
      "annual_inc 0\n",
      "loan_status 0\n",
      "pub_rec 0\n",
      "revol_util 0\n",
      "total_acc 0\n",
      "total_pymnt 0\n",
      "total_rec_late_fee 0\n",
      "pub_rec_bankruptcies 0\n",
      "last_pymnt_month 0\n",
      "last_pymnt_year 0\n",
      "issue_year 0\n",
      "issue_month 0\n",
      "emp_length_en 0\n",
      "loan_status_en 0\n"
     ]
    }
   ],
   "source": [
    "for col in df_copy.columns:\n",
    "    print(col,df_copy[col].isnull().sum())"
   ]
  },
  {
   "cell_type": "code",
   "execution_count": null,
   "id": "0e9cb43a",
   "metadata": {},
   "outputs": [],
   "source": []
  },
  {
   "cell_type": "code",
   "execution_count": 29,
   "id": "c0071fec",
   "metadata": {},
   "outputs": [
    {
     "data": {
      "text/plain": [
       "0        83.7\n",
       "1         9.4\n",
       "2        98.5\n",
       "3        21.0\n",
       "4        53.9\n",
       "         ... \n",
       "42529     0.0\n",
       "42530     0.0\n",
       "42531     0.0\n",
       "42532     0.0\n",
       "42534     0.0\n",
       "Name: revol_util, Length: 41340, dtype: float64"
      ]
     },
     "execution_count": 29,
     "metadata": {},
     "output_type": "execute_result"
    }
   ],
   "source": [
    "df_copy[\"revol_util\"]"
   ]
  },
  {
   "cell_type": "code",
   "execution_count": 30,
   "id": "622ffa60",
   "metadata": {},
   "outputs": [
    {
     "data": {
      "text/plain": [
       "(41340, 19)"
      ]
     },
     "execution_count": 30,
     "metadata": {},
     "output_type": "execute_result"
    }
   ],
   "source": [
    "df_copy.shape"
   ]
  },
  {
   "cell_type": "code",
   "execution_count": null,
   "id": "0502af56",
   "metadata": {},
   "outputs": [],
   "source": []
  },
  {
   "cell_type": "code",
   "execution_count": null,
   "id": "708d7c24",
   "metadata": {},
   "outputs": [],
   "source": []
  },
  {
   "cell_type": "code",
   "execution_count": 31,
   "id": "fbcdf02d",
   "metadata": {},
   "outputs": [],
   "source": [
    "df_copy = df_copy.drop(labels=\"emp_length\",axis=1)"
   ]
  },
  {
   "cell_type": "code",
   "execution_count": 32,
   "id": "11c40fdb",
   "metadata": {},
   "outputs": [],
   "source": [
    "df_copy = df_copy.drop(labels=\"loan_status\",axis=1)"
   ]
  },
  {
   "cell_type": "code",
   "execution_count": null,
   "id": "07004699",
   "metadata": {},
   "outputs": [],
   "source": []
  },
  {
   "cell_type": "markdown",
   "id": "9baf4aaf",
   "metadata": {},
   "source": [
    "Train test splitting"
   ]
  },
  {
   "cell_type": "code",
   "execution_count": 41,
   "id": "f7585e5a",
   "metadata": {},
   "outputs": [],
   "source": [
    "x_train,x_test,y_train,y_test = train_test_split(x,y,test_size=0.3,random_state=100)"
   ]
  },
  {
   "cell_type": "code",
   "execution_count": 45,
   "id": "14577829",
   "metadata": {},
   "outputs": [
    {
     "name": "stdout",
     "output_type": "stream",
     "text": [
      "x :  (28938, 16) (12402, 16)\n",
      "y :  (28938,) (12402,)\n"
     ]
    }
   ],
   "source": [
    "print(\"x : \",x_train.shape,x_test.shape)\n",
    "print(\"y : \",y_train.shape,y_test.shape)"
   ]
  },
  {
   "cell_type": "code",
   "execution_count": null,
   "id": "082a7dbe",
   "metadata": {},
   "outputs": [],
   "source": []
  },
  {
   "cell_type": "code",
   "execution_count": null,
   "id": "207bf587",
   "metadata": {},
   "outputs": [],
   "source": []
  },
  {
   "cell_type": "code",
   "execution_count": null,
   "id": "c800b14c",
   "metadata": {},
   "outputs": [],
   "source": []
  },
  {
   "cell_type": "code",
   "execution_count": null,
   "id": "eb810fd8",
   "metadata": {},
   "outputs": [],
   "source": []
  },
  {
   "cell_type": "code",
   "execution_count": null,
   "id": "75048812",
   "metadata": {},
   "outputs": [],
   "source": []
  },
  {
   "cell_type": "code",
   "execution_count": null,
   "id": "878178fa",
   "metadata": {},
   "outputs": [],
   "source": []
  }
 ],
 "metadata": {
  "kernelspec": {
   "display_name": "Python 3 (ipykernel)",
   "language": "python",
   "name": "python3"
  },
  "language_info": {
   "codemirror_mode": {
    "name": "ipython",
    "version": 3
   },
   "file_extension": ".py",
   "mimetype": "text/x-python",
   "name": "python",
   "nbconvert_exporter": "python",
   "pygments_lexer": "ipython3",
   "version": "3.8.10"
  }
 },
 "nbformat": 4,
 "nbformat_minor": 5
}
