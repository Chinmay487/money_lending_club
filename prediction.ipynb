{
 "cells": [
  {
   "cell_type": "code",
   "execution_count": 114,
   "id": "4f9e7d19",
   "metadata": {},
   "outputs": [],
   "source": [
    "import pandas as pd\n",
    "import numpy as np\n",
    "from sklearn.model_selection import train_test_split\n",
    "from sklearn.preprocessing import LabelEncoder\n",
    "from sklearn.tree import DecisionTreeClassifier\n",
    "from sklearn.ensemble import RandomForestClassifier\n",
    "from sklearn.metrics import confusion_matrix,mean_squared_error\n",
    "from sklearn.linear_model import LogisticRegression"
   ]
  },
  {
   "cell_type": "code",
   "execution_count": 115,
   "id": "064c2dcc",
   "metadata": {},
   "outputs": [],
   "source": [
    "df = pd.read_csv(\"data_updated_1.csv\",low_memory=False)"
   ]
  },
  {
   "cell_type": "code",
   "execution_count": null,
   "id": "55c10a53",
   "metadata": {},
   "outputs": [],
   "source": []
  },
  {
   "cell_type": "code",
   "execution_count": 116,
   "id": "02909fde",
   "metadata": {},
   "outputs": [
    {
     "data": {
      "text/html": [
       "<div>\n",
       "<style scoped>\n",
       "    .dataframe tbody tr th:only-of-type {\n",
       "        vertical-align: middle;\n",
       "    }\n",
       "\n",
       "    .dataframe tbody tr th {\n",
       "        vertical-align: top;\n",
       "    }\n",
       "\n",
       "    .dataframe thead th {\n",
       "        text-align: right;\n",
       "    }\n",
       "</style>\n",
       "<table border=\"1\" class=\"dataframe\">\n",
       "  <thead>\n",
       "    <tr style=\"text-align: right;\">\n",
       "      <th></th>\n",
       "      <th>loan_amnt</th>\n",
       "      <th>term</th>\n",
       "      <th>int_rate</th>\n",
       "      <th>installment</th>\n",
       "      <th>emp_length</th>\n",
       "      <th>annual_inc</th>\n",
       "      <th>loan_status</th>\n",
       "      <th>pub_rec</th>\n",
       "      <th>revol_util</th>\n",
       "      <th>total_acc</th>\n",
       "      <th>total_pymnt</th>\n",
       "      <th>total_rec_late_fee</th>\n",
       "      <th>pub_rec_bankruptcies</th>\n",
       "      <th>last_pymnt_month</th>\n",
       "      <th>last_pymnt_year</th>\n",
       "      <th>issue_year</th>\n",
       "      <th>issue_month</th>\n",
       "    </tr>\n",
       "  </thead>\n",
       "  <tbody>\n",
       "    <tr>\n",
       "      <th>0</th>\n",
       "      <td>5000</td>\n",
       "      <td>36</td>\n",
       "      <td>10.65</td>\n",
       "      <td>162.87</td>\n",
       "      <td>10+ years</td>\n",
       "      <td>24000.0</td>\n",
       "      <td>Fully Paid</td>\n",
       "      <td>0.0</td>\n",
       "      <td>83.7%</td>\n",
       "      <td>9.0</td>\n",
       "      <td>5863.155187</td>\n",
       "      <td>0.00</td>\n",
       "      <td>0.0</td>\n",
       "      <td>1.0</td>\n",
       "      <td>2015.0</td>\n",
       "      <td>2011</td>\n",
       "      <td>12</td>\n",
       "    </tr>\n",
       "    <tr>\n",
       "      <th>1</th>\n",
       "      <td>2500</td>\n",
       "      <td>60</td>\n",
       "      <td>15.27</td>\n",
       "      <td>59.83</td>\n",
       "      <td>&lt; 1 year</td>\n",
       "      <td>30000.0</td>\n",
       "      <td>Charged Off</td>\n",
       "      <td>0.0</td>\n",
       "      <td>9.4%</td>\n",
       "      <td>4.0</td>\n",
       "      <td>1008.710000</td>\n",
       "      <td>0.00</td>\n",
       "      <td>0.0</td>\n",
       "      <td>4.0</td>\n",
       "      <td>2013.0</td>\n",
       "      <td>2011</td>\n",
       "      <td>12</td>\n",
       "    </tr>\n",
       "    <tr>\n",
       "      <th>2</th>\n",
       "      <td>2400</td>\n",
       "      <td>36</td>\n",
       "      <td>15.96</td>\n",
       "      <td>84.33</td>\n",
       "      <td>10+ years</td>\n",
       "      <td>12252.0</td>\n",
       "      <td>Fully Paid</td>\n",
       "      <td>0.0</td>\n",
       "      <td>98.5%</td>\n",
       "      <td>10.0</td>\n",
       "      <td>3005.666844</td>\n",
       "      <td>0.00</td>\n",
       "      <td>0.0</td>\n",
       "      <td>6.0</td>\n",
       "      <td>2014.0</td>\n",
       "      <td>2011</td>\n",
       "      <td>12</td>\n",
       "    </tr>\n",
       "    <tr>\n",
       "      <th>3</th>\n",
       "      <td>10000</td>\n",
       "      <td>36</td>\n",
       "      <td>13.49</td>\n",
       "      <td>339.31</td>\n",
       "      <td>10+ years</td>\n",
       "      <td>49200.0</td>\n",
       "      <td>Fully Paid</td>\n",
       "      <td>0.0</td>\n",
       "      <td>21%</td>\n",
       "      <td>37.0</td>\n",
       "      <td>12231.890000</td>\n",
       "      <td>16.97</td>\n",
       "      <td>0.0</td>\n",
       "      <td>1.0</td>\n",
       "      <td>2015.0</td>\n",
       "      <td>2011</td>\n",
       "      <td>12</td>\n",
       "    </tr>\n",
       "    <tr>\n",
       "      <th>4</th>\n",
       "      <td>3000</td>\n",
       "      <td>60</td>\n",
       "      <td>12.69</td>\n",
       "      <td>67.79</td>\n",
       "      <td>1 year</td>\n",
       "      <td>80000.0</td>\n",
       "      <td>Current</td>\n",
       "      <td>0.0</td>\n",
       "      <td>53.9%</td>\n",
       "      <td>38.0</td>\n",
       "      <td>3784.490000</td>\n",
       "      <td>0.00</td>\n",
       "      <td>0.0</td>\n",
       "      <td>9.0</td>\n",
       "      <td>2016.0</td>\n",
       "      <td>2011</td>\n",
       "      <td>12</td>\n",
       "    </tr>\n",
       "  </tbody>\n",
       "</table>\n",
       "</div>"
      ],
      "text/plain": [
       "   loan_amnt  term  int_rate  installment emp_length  annual_inc  loan_status  \\\n",
       "0       5000    36     10.65       162.87  10+ years     24000.0   Fully Paid   \n",
       "1       2500    60     15.27        59.83   < 1 year     30000.0  Charged Off   \n",
       "2       2400    36     15.96        84.33  10+ years     12252.0   Fully Paid   \n",
       "3      10000    36     13.49       339.31  10+ years     49200.0   Fully Paid   \n",
       "4       3000    60     12.69        67.79     1 year     80000.0      Current   \n",
       "\n",
       "   pub_rec revol_util  total_acc   total_pymnt  total_rec_late_fee  \\\n",
       "0      0.0      83.7%        9.0   5863.155187                0.00   \n",
       "1      0.0       9.4%        4.0   1008.710000                0.00   \n",
       "2      0.0      98.5%       10.0   3005.666844                0.00   \n",
       "3      0.0        21%       37.0  12231.890000               16.97   \n",
       "4      0.0      53.9%       38.0   3784.490000                0.00   \n",
       "\n",
       "   pub_rec_bankruptcies  last_pymnt_month  last_pymnt_year  issue_year  \\\n",
       "0                   0.0               1.0           2015.0        2011   \n",
       "1                   0.0               4.0           2013.0        2011   \n",
       "2                   0.0               6.0           2014.0        2011   \n",
       "3                   0.0               1.0           2015.0        2011   \n",
       "4                   0.0               9.0           2016.0        2011   \n",
       "\n",
       "   issue_month  \n",
       "0           12  \n",
       "1           12  \n",
       "2           12  \n",
       "3           12  \n",
       "4           12  "
      ]
     },
     "execution_count": 116,
     "metadata": {},
     "output_type": "execute_result"
    }
   ],
   "source": [
    "df.head()"
   ]
  },
  {
   "cell_type": "code",
   "execution_count": 117,
   "id": "a394d29b",
   "metadata": {
    "scrolled": true
   },
   "outputs": [
    {
     "data": {
      "text/plain": [
       "Fully Paid                                             33586\n",
       "Charged Off                                             5653\n",
       "Does not meet the credit policy. Status:Fully Paid      1988\n",
       "Does not meet the credit policy. Status:Charged Off      761\n",
       "Current                                                  513\n",
       "In Grace Period                                           16\n",
       "Late (31-120 days)                                        12\n",
       "Late (16-30 days)                                          5\n",
       "Default                                                    1\n",
       "Name: loan_status, dtype: int64"
      ]
     },
     "execution_count": 117,
     "metadata": {},
     "output_type": "execute_result"
    }
   ],
   "source": [
    "df[\"loan_status\"].value_counts()"
   ]
  },
  {
   "cell_type": "markdown",
   "id": "b389f895",
   "metadata": {},
   "source": [
    "fully paid ,current,grace period,16 - 30 days late chalega\n",
    "else nahi chalega"
   ]
  },
  {
   "cell_type": "code",
   "execution_count": 118,
   "id": "593e4d21",
   "metadata": {},
   "outputs": [],
   "source": [
    "df_copy = df.copy()"
   ]
  },
  {
   "cell_type": "code",
   "execution_count": 119,
   "id": "8407ad3c",
   "metadata": {},
   "outputs": [],
   "source": [
    "le = LabelEncoder()"
   ]
  },
  {
   "cell_type": "code",
   "execution_count": 120,
   "id": "b238892b",
   "metadata": {},
   "outputs": [],
   "source": [
    "df_copy[\"emp_length_en\"] = le.fit_transform(df_copy[\"emp_length\"])"
   ]
  },
  {
   "cell_type": "code",
   "execution_count": 121,
   "id": "b8daf1eb",
   "metadata": {},
   "outputs": [
    {
     "data": {
      "text/html": [
       "<div>\n",
       "<style scoped>\n",
       "    .dataframe tbody tr th:only-of-type {\n",
       "        vertical-align: middle;\n",
       "    }\n",
       "\n",
       "    .dataframe tbody tr th {\n",
       "        vertical-align: top;\n",
       "    }\n",
       "\n",
       "    .dataframe thead th {\n",
       "        text-align: right;\n",
       "    }\n",
       "</style>\n",
       "<table border=\"1\" class=\"dataframe\">\n",
       "  <thead>\n",
       "    <tr style=\"text-align: right;\">\n",
       "      <th></th>\n",
       "      <th>loan_amnt</th>\n",
       "      <th>term</th>\n",
       "      <th>int_rate</th>\n",
       "      <th>installment</th>\n",
       "      <th>emp_length</th>\n",
       "      <th>annual_inc</th>\n",
       "      <th>loan_status</th>\n",
       "      <th>pub_rec</th>\n",
       "      <th>revol_util</th>\n",
       "      <th>total_acc</th>\n",
       "      <th>total_pymnt</th>\n",
       "      <th>total_rec_late_fee</th>\n",
       "      <th>pub_rec_bankruptcies</th>\n",
       "      <th>last_pymnt_month</th>\n",
       "      <th>last_pymnt_year</th>\n",
       "      <th>issue_year</th>\n",
       "      <th>issue_month</th>\n",
       "      <th>emp_length_en</th>\n",
       "    </tr>\n",
       "  </thead>\n",
       "  <tbody>\n",
       "    <tr>\n",
       "      <th>0</th>\n",
       "      <td>5000</td>\n",
       "      <td>36</td>\n",
       "      <td>10.65</td>\n",
       "      <td>162.87</td>\n",
       "      <td>10+ years</td>\n",
       "      <td>24000.0</td>\n",
       "      <td>Fully Paid</td>\n",
       "      <td>0.0</td>\n",
       "      <td>83.7%</td>\n",
       "      <td>9.0</td>\n",
       "      <td>5863.155187</td>\n",
       "      <td>0.00</td>\n",
       "      <td>0.0</td>\n",
       "      <td>1.0</td>\n",
       "      <td>2015.0</td>\n",
       "      <td>2011</td>\n",
       "      <td>12</td>\n",
       "      <td>1</td>\n",
       "    </tr>\n",
       "    <tr>\n",
       "      <th>1</th>\n",
       "      <td>2500</td>\n",
       "      <td>60</td>\n",
       "      <td>15.27</td>\n",
       "      <td>59.83</td>\n",
       "      <td>&lt; 1 year</td>\n",
       "      <td>30000.0</td>\n",
       "      <td>Charged Off</td>\n",
       "      <td>0.0</td>\n",
       "      <td>9.4%</td>\n",
       "      <td>4.0</td>\n",
       "      <td>1008.710000</td>\n",
       "      <td>0.00</td>\n",
       "      <td>0.0</td>\n",
       "      <td>4.0</td>\n",
       "      <td>2013.0</td>\n",
       "      <td>2011</td>\n",
       "      <td>12</td>\n",
       "      <td>10</td>\n",
       "    </tr>\n",
       "    <tr>\n",
       "      <th>2</th>\n",
       "      <td>2400</td>\n",
       "      <td>36</td>\n",
       "      <td>15.96</td>\n",
       "      <td>84.33</td>\n",
       "      <td>10+ years</td>\n",
       "      <td>12252.0</td>\n",
       "      <td>Fully Paid</td>\n",
       "      <td>0.0</td>\n",
       "      <td>98.5%</td>\n",
       "      <td>10.0</td>\n",
       "      <td>3005.666844</td>\n",
       "      <td>0.00</td>\n",
       "      <td>0.0</td>\n",
       "      <td>6.0</td>\n",
       "      <td>2014.0</td>\n",
       "      <td>2011</td>\n",
       "      <td>12</td>\n",
       "      <td>1</td>\n",
       "    </tr>\n",
       "    <tr>\n",
       "      <th>3</th>\n",
       "      <td>10000</td>\n",
       "      <td>36</td>\n",
       "      <td>13.49</td>\n",
       "      <td>339.31</td>\n",
       "      <td>10+ years</td>\n",
       "      <td>49200.0</td>\n",
       "      <td>Fully Paid</td>\n",
       "      <td>0.0</td>\n",
       "      <td>21%</td>\n",
       "      <td>37.0</td>\n",
       "      <td>12231.890000</td>\n",
       "      <td>16.97</td>\n",
       "      <td>0.0</td>\n",
       "      <td>1.0</td>\n",
       "      <td>2015.0</td>\n",
       "      <td>2011</td>\n",
       "      <td>12</td>\n",
       "      <td>1</td>\n",
       "    </tr>\n",
       "    <tr>\n",
       "      <th>4</th>\n",
       "      <td>3000</td>\n",
       "      <td>60</td>\n",
       "      <td>12.69</td>\n",
       "      <td>67.79</td>\n",
       "      <td>1 year</td>\n",
       "      <td>80000.0</td>\n",
       "      <td>Current</td>\n",
       "      <td>0.0</td>\n",
       "      <td>53.9%</td>\n",
       "      <td>38.0</td>\n",
       "      <td>3784.490000</td>\n",
       "      <td>0.00</td>\n",
       "      <td>0.0</td>\n",
       "      <td>9.0</td>\n",
       "      <td>2016.0</td>\n",
       "      <td>2011</td>\n",
       "      <td>12</td>\n",
       "      <td>0</td>\n",
       "    </tr>\n",
       "  </tbody>\n",
       "</table>\n",
       "</div>"
      ],
      "text/plain": [
       "   loan_amnt  term  int_rate  installment emp_length  annual_inc  loan_status  \\\n",
       "0       5000    36     10.65       162.87  10+ years     24000.0   Fully Paid   \n",
       "1       2500    60     15.27        59.83   < 1 year     30000.0  Charged Off   \n",
       "2       2400    36     15.96        84.33  10+ years     12252.0   Fully Paid   \n",
       "3      10000    36     13.49       339.31  10+ years     49200.0   Fully Paid   \n",
       "4       3000    60     12.69        67.79     1 year     80000.0      Current   \n",
       "\n",
       "   pub_rec revol_util  total_acc   total_pymnt  total_rec_late_fee  \\\n",
       "0      0.0      83.7%        9.0   5863.155187                0.00   \n",
       "1      0.0       9.4%        4.0   1008.710000                0.00   \n",
       "2      0.0      98.5%       10.0   3005.666844                0.00   \n",
       "3      0.0        21%       37.0  12231.890000               16.97   \n",
       "4      0.0      53.9%       38.0   3784.490000                0.00   \n",
       "\n",
       "   pub_rec_bankruptcies  last_pymnt_month  last_pymnt_year  issue_year  \\\n",
       "0                   0.0               1.0           2015.0        2011   \n",
       "1                   0.0               4.0           2013.0        2011   \n",
       "2                   0.0               6.0           2014.0        2011   \n",
       "3                   0.0               1.0           2015.0        2011   \n",
       "4                   0.0               9.0           2016.0        2011   \n",
       "\n",
       "   issue_month  emp_length_en  \n",
       "0           12              1  \n",
       "1           12             10  \n",
       "2           12              1  \n",
       "3           12              1  \n",
       "4           12              0  "
      ]
     },
     "execution_count": 121,
     "metadata": {},
     "output_type": "execute_result"
    }
   ],
   "source": [
    "df_copy.head()"
   ]
  },
  {
   "cell_type": "code",
   "execution_count": 122,
   "id": "541cc957",
   "metadata": {},
   "outputs": [
    {
     "data": {
      "text/plain": [
       "1     9369\n",
       "10    5062\n",
       "2     4743\n",
       "3     4364\n",
       "4     3649\n",
       "0     3595\n",
       "5     3458\n",
       "6     2375\n",
       "7     1875\n",
       "8     1592\n",
       "9     1341\n",
       "11    1112\n",
       "Name: emp_length_en, dtype: int64"
      ]
     },
     "execution_count": 122,
     "metadata": {},
     "output_type": "execute_result"
    }
   ],
   "source": [
    "df_copy[\"emp_length_en\"].value_counts()"
   ]
  },
  {
   "cell_type": "code",
   "execution_count": 123,
   "id": "7fe0329f",
   "metadata": {},
   "outputs": [
    {
     "data": {
      "text/html": [
       "<div>\n",
       "<style scoped>\n",
       "    .dataframe tbody tr th:only-of-type {\n",
       "        vertical-align: middle;\n",
       "    }\n",
       "\n",
       "    .dataframe tbody tr th {\n",
       "        vertical-align: top;\n",
       "    }\n",
       "\n",
       "    .dataframe thead th {\n",
       "        text-align: right;\n",
       "    }\n",
       "</style>\n",
       "<table border=\"1\" class=\"dataframe\">\n",
       "  <thead>\n",
       "    <tr style=\"text-align: right;\">\n",
       "      <th></th>\n",
       "      <th>loan_amnt</th>\n",
       "      <th>term</th>\n",
       "      <th>int_rate</th>\n",
       "      <th>installment</th>\n",
       "      <th>emp_length</th>\n",
       "      <th>annual_inc</th>\n",
       "      <th>loan_status</th>\n",
       "      <th>pub_rec</th>\n",
       "      <th>revol_util</th>\n",
       "      <th>total_acc</th>\n",
       "      <th>total_pymnt</th>\n",
       "      <th>total_rec_late_fee</th>\n",
       "      <th>pub_rec_bankruptcies</th>\n",
       "      <th>last_pymnt_month</th>\n",
       "      <th>last_pymnt_year</th>\n",
       "      <th>issue_year</th>\n",
       "      <th>issue_month</th>\n",
       "      <th>emp_length_en</th>\n",
       "    </tr>\n",
       "  </thead>\n",
       "  <tbody>\n",
       "    <tr>\n",
       "      <th>20645</th>\n",
       "      <td>16000</td>\n",
       "      <td>60</td>\n",
       "      <td>16.4</td>\n",
       "      <td>392.5</td>\n",
       "      <td>1 year</td>\n",
       "      <td>70000.0</td>\n",
       "      <td>Default</td>\n",
       "      <td>1.0</td>\n",
       "      <td>40.1%</td>\n",
       "      <td>18.0</td>\n",
       "      <td>23126.44</td>\n",
       "      <td>0.0</td>\n",
       "      <td>1.0</td>\n",
       "      <td>1.0</td>\n",
       "      <td>2016.0</td>\n",
       "      <td>2011</td>\n",
       "      <td>2</td>\n",
       "      <td>0</td>\n",
       "    </tr>\n",
       "  </tbody>\n",
       "</table>\n",
       "</div>"
      ],
      "text/plain": [
       "       loan_amnt  term  int_rate  installment emp_length  annual_inc  \\\n",
       "20645      16000    60      16.4        392.5     1 year     70000.0   \n",
       "\n",
       "      loan_status  pub_rec revol_util  total_acc  total_pymnt  \\\n",
       "20645     Default      1.0      40.1%       18.0     23126.44   \n",
       "\n",
       "       total_rec_late_fee  pub_rec_bankruptcies  last_pymnt_month  \\\n",
       "20645                 0.0                   1.0               1.0   \n",
       "\n",
       "       last_pymnt_year  issue_year  issue_month  emp_length_en  \n",
       "20645           2016.0        2011            2              0  "
      ]
     },
     "execution_count": 123,
     "metadata": {},
     "output_type": "execute_result"
    }
   ],
   "source": [
    "df_copy[df_copy[\"loan_status\"] == \"Default\"]"
   ]
  },
  {
   "cell_type": "code",
   "execution_count": 124,
   "id": "89a49b1f",
   "metadata": {},
   "outputs": [],
   "source": [
    "df_copy = df_copy.drop(20645)"
   ]
  },
  {
   "cell_type": "code",
   "execution_count": 125,
   "id": "1e96918a",
   "metadata": {},
   "outputs": [],
   "source": [
    "df_copy = df_copy[df_copy[\"loan_status\"].isin([\"Fully Paid\",\"Charged Off\"])]"
   ]
  },
  {
   "cell_type": "code",
   "execution_count": null,
   "id": "a53f7669",
   "metadata": {},
   "outputs": [],
   "source": []
  },
  {
   "cell_type": "code",
   "execution_count": 126,
   "id": "57711e1d",
   "metadata": {},
   "outputs": [
    {
     "data": {
      "text/plain": [
       "Fully Paid     33586\n",
       "Charged Off     5653\n",
       "Name: loan_status, dtype: int64"
      ]
     },
     "execution_count": 126,
     "metadata": {},
     "output_type": "execute_result"
    }
   ],
   "source": [
    "df_copy['loan_status'].value_counts()"
   ]
  },
  {
   "cell_type": "code",
   "execution_count": 127,
   "id": "0e380c7d",
   "metadata": {},
   "outputs": [],
   "source": [
    "df_copy[\"loan_status_en\"] = le.fit_transform(df_copy[\"loan_status\"])"
   ]
  },
  {
   "cell_type": "code",
   "execution_count": 128,
   "id": "599b7b9d",
   "metadata": {},
   "outputs": [
    {
     "data": {
      "text/plain": [
       "1    33586\n",
       "0     5653\n",
       "Name: loan_status_en, dtype: int64"
      ]
     },
     "execution_count": 128,
     "metadata": {},
     "output_type": "execute_result"
    }
   ],
   "source": [
    "df_copy[\"loan_status_en\"].value_counts()"
   ]
  },
  {
   "cell_type": "raw",
   "id": "b3ee7930",
   "metadata": {},
   "source": [
    "Fully Paid = 0\n",
    "Charged Off = 1"
   ]
  },
  {
   "cell_type": "code",
   "execution_count": 129,
   "id": "4152b59c",
   "metadata": {},
   "outputs": [
    {
     "data": {
      "text/html": [
       "<div>\n",
       "<style scoped>\n",
       "    .dataframe tbody tr th:only-of-type {\n",
       "        vertical-align: middle;\n",
       "    }\n",
       "\n",
       "    .dataframe tbody tr th {\n",
       "        vertical-align: top;\n",
       "    }\n",
       "\n",
       "    .dataframe thead th {\n",
       "        text-align: right;\n",
       "    }\n",
       "</style>\n",
       "<table border=\"1\" class=\"dataframe\">\n",
       "  <thead>\n",
       "    <tr style=\"text-align: right;\">\n",
       "      <th></th>\n",
       "      <th>loan_status_en</th>\n",
       "      <th>loan_status</th>\n",
       "    </tr>\n",
       "  </thead>\n",
       "  <tbody>\n",
       "    <tr>\n",
       "      <th>0</th>\n",
       "      <td>1</td>\n",
       "      <td>Fully Paid</td>\n",
       "    </tr>\n",
       "    <tr>\n",
       "      <th>1</th>\n",
       "      <td>0</td>\n",
       "      <td>Charged Off</td>\n",
       "    </tr>\n",
       "    <tr>\n",
       "      <th>2</th>\n",
       "      <td>1</td>\n",
       "      <td>Fully Paid</td>\n",
       "    </tr>\n",
       "    <tr>\n",
       "      <th>3</th>\n",
       "      <td>1</td>\n",
       "      <td>Fully Paid</td>\n",
       "    </tr>\n",
       "    <tr>\n",
       "      <th>5</th>\n",
       "      <td>1</td>\n",
       "      <td>Fully Paid</td>\n",
       "    </tr>\n",
       "  </tbody>\n",
       "</table>\n",
       "</div>"
      ],
      "text/plain": [
       "   loan_status_en  loan_status\n",
       "0               1   Fully Paid\n",
       "1               0  Charged Off\n",
       "2               1   Fully Paid\n",
       "3               1   Fully Paid\n",
       "5               1   Fully Paid"
      ]
     },
     "execution_count": 129,
     "metadata": {},
     "output_type": "execute_result"
    }
   ],
   "source": [
    "df_copy[[\"loan_status_en\",\"loan_status\"]].head()"
   ]
  },
  {
   "cell_type": "code",
   "execution_count": 130,
   "id": "00d70a81",
   "metadata": {},
   "outputs": [
    {
     "data": {
      "text/plain": [
       "(39239, 19)"
      ]
     },
     "execution_count": 130,
     "metadata": {},
     "output_type": "execute_result"
    }
   ],
   "source": [
    "df_copy.shape"
   ]
  },
  {
   "cell_type": "code",
   "execution_count": 131,
   "id": "696a2a77",
   "metadata": {},
   "outputs": [
    {
     "data": {
      "text/html": [
       "<div>\n",
       "<style scoped>\n",
       "    .dataframe tbody tr th:only-of-type {\n",
       "        vertical-align: middle;\n",
       "    }\n",
       "\n",
       "    .dataframe tbody tr th {\n",
       "        vertical-align: top;\n",
       "    }\n",
       "\n",
       "    .dataframe thead th {\n",
       "        text-align: right;\n",
       "    }\n",
       "</style>\n",
       "<table border=\"1\" class=\"dataframe\">\n",
       "  <thead>\n",
       "    <tr style=\"text-align: right;\">\n",
       "      <th></th>\n",
       "      <th>loan_amnt</th>\n",
       "      <th>term</th>\n",
       "      <th>int_rate</th>\n",
       "      <th>installment</th>\n",
       "      <th>emp_length</th>\n",
       "      <th>annual_inc</th>\n",
       "      <th>loan_status</th>\n",
       "      <th>pub_rec</th>\n",
       "      <th>revol_util</th>\n",
       "      <th>total_acc</th>\n",
       "      <th>total_pymnt</th>\n",
       "      <th>total_rec_late_fee</th>\n",
       "      <th>pub_rec_bankruptcies</th>\n",
       "      <th>last_pymnt_month</th>\n",
       "      <th>last_pymnt_year</th>\n",
       "      <th>issue_year</th>\n",
       "      <th>issue_month</th>\n",
       "      <th>emp_length_en</th>\n",
       "      <th>loan_status_en</th>\n",
       "    </tr>\n",
       "  </thead>\n",
       "  <tbody>\n",
       "    <tr>\n",
       "      <th>0</th>\n",
       "      <td>5000</td>\n",
       "      <td>36</td>\n",
       "      <td>10.65</td>\n",
       "      <td>162.87</td>\n",
       "      <td>10+ years</td>\n",
       "      <td>24000.0</td>\n",
       "      <td>Fully Paid</td>\n",
       "      <td>0.0</td>\n",
       "      <td>83.7%</td>\n",
       "      <td>9.0</td>\n",
       "      <td>5863.155187</td>\n",
       "      <td>0.00</td>\n",
       "      <td>0.0</td>\n",
       "      <td>1.0</td>\n",
       "      <td>2015.0</td>\n",
       "      <td>2011</td>\n",
       "      <td>12</td>\n",
       "      <td>1</td>\n",
       "      <td>1</td>\n",
       "    </tr>\n",
       "    <tr>\n",
       "      <th>1</th>\n",
       "      <td>2500</td>\n",
       "      <td>60</td>\n",
       "      <td>15.27</td>\n",
       "      <td>59.83</td>\n",
       "      <td>&lt; 1 year</td>\n",
       "      <td>30000.0</td>\n",
       "      <td>Charged Off</td>\n",
       "      <td>0.0</td>\n",
       "      <td>9.4%</td>\n",
       "      <td>4.0</td>\n",
       "      <td>1008.710000</td>\n",
       "      <td>0.00</td>\n",
       "      <td>0.0</td>\n",
       "      <td>4.0</td>\n",
       "      <td>2013.0</td>\n",
       "      <td>2011</td>\n",
       "      <td>12</td>\n",
       "      <td>10</td>\n",
       "      <td>0</td>\n",
       "    </tr>\n",
       "    <tr>\n",
       "      <th>2</th>\n",
       "      <td>2400</td>\n",
       "      <td>36</td>\n",
       "      <td>15.96</td>\n",
       "      <td>84.33</td>\n",
       "      <td>10+ years</td>\n",
       "      <td>12252.0</td>\n",
       "      <td>Fully Paid</td>\n",
       "      <td>0.0</td>\n",
       "      <td>98.5%</td>\n",
       "      <td>10.0</td>\n",
       "      <td>3005.666844</td>\n",
       "      <td>0.00</td>\n",
       "      <td>0.0</td>\n",
       "      <td>6.0</td>\n",
       "      <td>2014.0</td>\n",
       "      <td>2011</td>\n",
       "      <td>12</td>\n",
       "      <td>1</td>\n",
       "      <td>1</td>\n",
       "    </tr>\n",
       "    <tr>\n",
       "      <th>3</th>\n",
       "      <td>10000</td>\n",
       "      <td>36</td>\n",
       "      <td>13.49</td>\n",
       "      <td>339.31</td>\n",
       "      <td>10+ years</td>\n",
       "      <td>49200.0</td>\n",
       "      <td>Fully Paid</td>\n",
       "      <td>0.0</td>\n",
       "      <td>21%</td>\n",
       "      <td>37.0</td>\n",
       "      <td>12231.890000</td>\n",
       "      <td>16.97</td>\n",
       "      <td>0.0</td>\n",
       "      <td>1.0</td>\n",
       "      <td>2015.0</td>\n",
       "      <td>2011</td>\n",
       "      <td>12</td>\n",
       "      <td>1</td>\n",
       "      <td>1</td>\n",
       "    </tr>\n",
       "    <tr>\n",
       "      <th>5</th>\n",
       "      <td>5000</td>\n",
       "      <td>36</td>\n",
       "      <td>7.90</td>\n",
       "      <td>156.46</td>\n",
       "      <td>3 years</td>\n",
       "      <td>36000.0</td>\n",
       "      <td>Fully Paid</td>\n",
       "      <td>0.0</td>\n",
       "      <td>28.3%</td>\n",
       "      <td>12.0</td>\n",
       "      <td>5632.210000</td>\n",
       "      <td>0.00</td>\n",
       "      <td>0.0</td>\n",
       "      <td>1.0</td>\n",
       "      <td>2015.0</td>\n",
       "      <td>2011</td>\n",
       "      <td>12</td>\n",
       "      <td>3</td>\n",
       "      <td>1</td>\n",
       "    </tr>\n",
       "  </tbody>\n",
       "</table>\n",
       "</div>"
      ],
      "text/plain": [
       "   loan_amnt  term  int_rate  installment emp_length  annual_inc  loan_status  \\\n",
       "0       5000    36     10.65       162.87  10+ years     24000.0   Fully Paid   \n",
       "1       2500    60     15.27        59.83   < 1 year     30000.0  Charged Off   \n",
       "2       2400    36     15.96        84.33  10+ years     12252.0   Fully Paid   \n",
       "3      10000    36     13.49       339.31  10+ years     49200.0   Fully Paid   \n",
       "5       5000    36      7.90       156.46    3 years     36000.0   Fully Paid   \n",
       "\n",
       "   pub_rec revol_util  total_acc   total_pymnt  total_rec_late_fee  \\\n",
       "0      0.0      83.7%        9.0   5863.155187                0.00   \n",
       "1      0.0       9.4%        4.0   1008.710000                0.00   \n",
       "2      0.0      98.5%       10.0   3005.666844                0.00   \n",
       "3      0.0        21%       37.0  12231.890000               16.97   \n",
       "5      0.0      28.3%       12.0   5632.210000                0.00   \n",
       "\n",
       "   pub_rec_bankruptcies  last_pymnt_month  last_pymnt_year  issue_year  \\\n",
       "0                   0.0               1.0           2015.0        2011   \n",
       "1                   0.0               4.0           2013.0        2011   \n",
       "2                   0.0               6.0           2014.0        2011   \n",
       "3                   0.0               1.0           2015.0        2011   \n",
       "5                   0.0               1.0           2015.0        2011   \n",
       "\n",
       "   issue_month  emp_length_en  loan_status_en  \n",
       "0           12              1               1  \n",
       "1           12             10               0  \n",
       "2           12              1               1  \n",
       "3           12              1               1  \n",
       "5           12              3               1  "
      ]
     },
     "execution_count": 131,
     "metadata": {},
     "output_type": "execute_result"
    }
   ],
   "source": [
    "df_copy.head()"
   ]
  },
  {
   "cell_type": "code",
   "execution_count": 132,
   "id": "71f99fe7",
   "metadata": {},
   "outputs": [
    {
     "name": "stdout",
     "output_type": "stream",
     "text": [
      "loan_amnt 0\n",
      "term 0\n",
      "int_rate 0\n",
      "installment 0\n",
      "emp_length 1057\n",
      "annual_inc 0\n",
      "loan_status 0\n",
      "pub_rec 0\n",
      "revol_util 50\n",
      "total_acc 0\n",
      "total_pymnt 0\n",
      "total_rec_late_fee 0\n",
      "pub_rec_bankruptcies 697\n",
      "last_pymnt_month 71\n",
      "last_pymnt_year 71\n",
      "issue_year 0\n",
      "issue_month 0\n",
      "emp_length_en 0\n",
      "loan_status_en 0\n"
     ]
    }
   ],
   "source": [
    "for col in df_copy.columns:\n",
    "    print(col,df_copy[col].isnull().sum())"
   ]
  },
  {
   "cell_type": "code",
   "execution_count": 133,
   "id": "4f160b68",
   "metadata": {},
   "outputs": [],
   "source": [
    "df_copy = df_copy[df_copy['emp_length'].notna()]"
   ]
  },
  {
   "cell_type": "code",
   "execution_count": 134,
   "id": "4a3297f4",
   "metadata": {},
   "outputs": [],
   "source": [
    "df_copy = df_copy[df_copy['annual_inc'].notna()]"
   ]
  },
  {
   "cell_type": "code",
   "execution_count": 135,
   "id": "04ebf49e",
   "metadata": {},
   "outputs": [
    {
     "data": {
      "text/plain": [
       "0"
      ]
     },
     "execution_count": 135,
     "metadata": {},
     "output_type": "execute_result"
    }
   ],
   "source": [
    "df_copy[\"annual_inc\"].isnull().sum()"
   ]
  },
  {
   "cell_type": "code",
   "execution_count": 136,
   "id": "00b7dcf7",
   "metadata": {},
   "outputs": [],
   "source": [
    "df_copy = df_copy[df_copy['last_pymnt_year'].notna()]"
   ]
  },
  {
   "cell_type": "code",
   "execution_count": 137,
   "id": "bc6baa06",
   "metadata": {},
   "outputs": [],
   "source": [
    "def update_revol_unit(value):\n",
    "    return eval(value.replace(\"%\",\"\").replace(\" \",\"\")) "
   ]
  },
  {
   "cell_type": "code",
   "execution_count": 138,
   "id": "cb7f069b",
   "metadata": {},
   "outputs": [
    {
     "data": {
      "text/plain": [
       "0    83.7\n",
       "1     9.4\n",
       "2    98.5\n",
       "3    21.0\n",
       "5    85.6\n",
       "Name: revol_util, dtype: float64"
      ]
     },
     "execution_count": 138,
     "metadata": {},
     "output_type": "execute_result"
    }
   ],
   "source": [
    "df_revol_util = df_copy[\"revol_util\"].copy()\n",
    "df_revol_util = df_revol_util.fillna(\"0\")\n",
    "new_revol_util = map(update_revol_unit,df_revol_util)\n",
    "new_revol_util = list(new_revol_util)\n",
    "df_copy[\"revol_util\"] = pd.Series(new_revol_util)\n",
    "df_copy[\"revol_util\"].head()"
   ]
  },
  {
   "cell_type": "code",
   "execution_count": 139,
   "id": "2ad7fb47",
   "metadata": {},
   "outputs": [
    {
     "data": {
      "text/plain": [
       "1670"
      ]
     },
     "execution_count": 139,
     "metadata": {},
     "output_type": "execute_result"
    }
   ],
   "source": [
    "df_copy[\"revol_util\"].isnull().sum()"
   ]
  },
  {
   "cell_type": "code",
   "execution_count": null,
   "id": "3ce82f1f",
   "metadata": {},
   "outputs": [],
   "source": []
  },
  {
   "cell_type": "code",
   "execution_count": null,
   "id": "782ece9a",
   "metadata": {},
   "outputs": [],
   "source": []
  },
  {
   "cell_type": "code",
   "execution_count": 140,
   "id": "9626da1f",
   "metadata": {},
   "outputs": [],
   "source": [
    "def replace_na(col_name,value=0):\n",
    "    df_copy[col_name] = df_copy[col_name].fillna(0)"
   ]
  },
  {
   "cell_type": "code",
   "execution_count": 141,
   "id": "ae0ea917",
   "metadata": {},
   "outputs": [],
   "source": [
    "replace_na(col_name = \"pub_rec\")\n",
    "replace_na(col_name = \"revol_util\")\n",
    "replace_na(col_name = \"total_acc\")\n",
    "replace_na(col_name = \"pub_rec_bankruptcies\")"
   ]
  },
  {
   "cell_type": "code",
   "execution_count": 142,
   "id": "82740a44",
   "metadata": {},
   "outputs": [
    {
     "name": "stdout",
     "output_type": "stream",
     "text": [
      "loan_amnt 0\n",
      "term 0\n",
      "int_rate 0\n",
      "installment 0\n",
      "emp_length 0\n",
      "annual_inc 0\n",
      "loan_status 0\n",
      "pub_rec 0\n",
      "revol_util 0\n",
      "total_acc 0\n",
      "total_pymnt 0\n",
      "total_rec_late_fee 0\n",
      "pub_rec_bankruptcies 0\n",
      "last_pymnt_month 0\n",
      "last_pymnt_year 0\n",
      "issue_year 0\n",
      "issue_month 0\n",
      "emp_length_en 0\n",
      "loan_status_en 0\n"
     ]
    }
   ],
   "source": [
    "for col in df_copy.columns:\n",
    "    print(col,df_copy[col].isnull().sum())"
   ]
  },
  {
   "cell_type": "code",
   "execution_count": null,
   "id": "0e9cb43a",
   "metadata": {},
   "outputs": [],
   "source": []
  },
  {
   "cell_type": "code",
   "execution_count": 143,
   "id": "c0071fec",
   "metadata": {},
   "outputs": [
    {
     "data": {
      "text/plain": [
       "0        83.7\n",
       "1         9.4\n",
       "2        98.5\n",
       "3        21.0\n",
       "5        85.6\n",
       "         ... \n",
       "39781     0.0\n",
       "39782     0.0\n",
       "39783     0.0\n",
       "39784     0.0\n",
       "39785     0.0\n",
       "Name: revol_util, Length: 38116, dtype: float64"
      ]
     },
     "execution_count": 143,
     "metadata": {},
     "output_type": "execute_result"
    }
   ],
   "source": [
    "df_copy[\"revol_util\"]"
   ]
  },
  {
   "cell_type": "code",
   "execution_count": 144,
   "id": "622ffa60",
   "metadata": {},
   "outputs": [
    {
     "data": {
      "text/plain": [
       "(38116, 19)"
      ]
     },
     "execution_count": 144,
     "metadata": {},
     "output_type": "execute_result"
    }
   ],
   "source": [
    "df_copy.shape"
   ]
  },
  {
   "cell_type": "code",
   "execution_count": null,
   "id": "0502af56",
   "metadata": {},
   "outputs": [],
   "source": []
  },
  {
   "cell_type": "code",
   "execution_count": null,
   "id": "708d7c24",
   "metadata": {},
   "outputs": [],
   "source": []
  },
  {
   "cell_type": "code",
   "execution_count": 145,
   "id": "fbcdf02d",
   "metadata": {},
   "outputs": [],
   "source": [
    "df_copy = df_copy.drop(labels=\"emp_length\",axis=1)"
   ]
  },
  {
   "cell_type": "code",
   "execution_count": 146,
   "id": "11c40fdb",
   "metadata": {},
   "outputs": [],
   "source": [
    "df_copy = df_copy.drop(labels=\"loan_status\",axis=1)"
   ]
  },
  {
   "cell_type": "code",
   "execution_count": 147,
   "id": "07004699",
   "metadata": {},
   "outputs": [
    {
     "data": {
      "text/plain": [
       "Index(['loan_amnt', 'term', 'int_rate', 'installment', 'annual_inc', 'pub_rec',\n",
       "       'revol_util', 'total_acc', 'total_pymnt', 'total_rec_late_fee',\n",
       "       'pub_rec_bankruptcies', 'last_pymnt_month', 'last_pymnt_year',\n",
       "       'issue_year', 'issue_month', 'emp_length_en', 'loan_status_en'],\n",
       "      dtype='object')"
      ]
     },
     "execution_count": 147,
     "metadata": {},
     "output_type": "execute_result"
    }
   ],
   "source": [
    "df_copy.columns"
   ]
  },
  {
   "cell_type": "code",
   "execution_count": 148,
   "id": "a6bf58ff",
   "metadata": {},
   "outputs": [],
   "source": [
    "x = df_copy[[col_name for col_name in df_copy.columns if col_name not in  [\"loan_status_en\",\"pub_rec\"]]]\n",
    "y = df_copy[\"loan_status_en\"]"
   ]
  },
  {
   "cell_type": "code",
   "execution_count": 149,
   "id": "f91d665b",
   "metadata": {},
   "outputs": [
    {
     "data": {
      "text/html": [
       "<div>\n",
       "<style scoped>\n",
       "    .dataframe tbody tr th:only-of-type {\n",
       "        vertical-align: middle;\n",
       "    }\n",
       "\n",
       "    .dataframe tbody tr th {\n",
       "        vertical-align: top;\n",
       "    }\n",
       "\n",
       "    .dataframe thead th {\n",
       "        text-align: right;\n",
       "    }\n",
       "</style>\n",
       "<table border=\"1\" class=\"dataframe\">\n",
       "  <thead>\n",
       "    <tr style=\"text-align: right;\">\n",
       "      <th></th>\n",
       "      <th>loan_amnt</th>\n",
       "      <th>term</th>\n",
       "      <th>int_rate</th>\n",
       "      <th>installment</th>\n",
       "      <th>annual_inc</th>\n",
       "      <th>revol_util</th>\n",
       "      <th>total_acc</th>\n",
       "      <th>total_pymnt</th>\n",
       "      <th>total_rec_late_fee</th>\n",
       "      <th>pub_rec_bankruptcies</th>\n",
       "      <th>last_pymnt_month</th>\n",
       "      <th>last_pymnt_year</th>\n",
       "      <th>issue_year</th>\n",
       "      <th>issue_month</th>\n",
       "      <th>emp_length_en</th>\n",
       "    </tr>\n",
       "  </thead>\n",
       "  <tbody>\n",
       "    <tr>\n",
       "      <th>0</th>\n",
       "      <td>5000</td>\n",
       "      <td>36</td>\n",
       "      <td>10.65</td>\n",
       "      <td>162.87</td>\n",
       "      <td>24000.0</td>\n",
       "      <td>83.7</td>\n",
       "      <td>9.0</td>\n",
       "      <td>5863.155187</td>\n",
       "      <td>0.00</td>\n",
       "      <td>0.0</td>\n",
       "      <td>1.0</td>\n",
       "      <td>2015.0</td>\n",
       "      <td>2011</td>\n",
       "      <td>12</td>\n",
       "      <td>1</td>\n",
       "    </tr>\n",
       "    <tr>\n",
       "      <th>1</th>\n",
       "      <td>2500</td>\n",
       "      <td>60</td>\n",
       "      <td>15.27</td>\n",
       "      <td>59.83</td>\n",
       "      <td>30000.0</td>\n",
       "      <td>9.4</td>\n",
       "      <td>4.0</td>\n",
       "      <td>1008.710000</td>\n",
       "      <td>0.00</td>\n",
       "      <td>0.0</td>\n",
       "      <td>4.0</td>\n",
       "      <td>2013.0</td>\n",
       "      <td>2011</td>\n",
       "      <td>12</td>\n",
       "      <td>10</td>\n",
       "    </tr>\n",
       "    <tr>\n",
       "      <th>2</th>\n",
       "      <td>2400</td>\n",
       "      <td>36</td>\n",
       "      <td>15.96</td>\n",
       "      <td>84.33</td>\n",
       "      <td>12252.0</td>\n",
       "      <td>98.5</td>\n",
       "      <td>10.0</td>\n",
       "      <td>3005.666844</td>\n",
       "      <td>0.00</td>\n",
       "      <td>0.0</td>\n",
       "      <td>6.0</td>\n",
       "      <td>2014.0</td>\n",
       "      <td>2011</td>\n",
       "      <td>12</td>\n",
       "      <td>1</td>\n",
       "    </tr>\n",
       "    <tr>\n",
       "      <th>3</th>\n",
       "      <td>10000</td>\n",
       "      <td>36</td>\n",
       "      <td>13.49</td>\n",
       "      <td>339.31</td>\n",
       "      <td>49200.0</td>\n",
       "      <td>21.0</td>\n",
       "      <td>37.0</td>\n",
       "      <td>12231.890000</td>\n",
       "      <td>16.97</td>\n",
       "      <td>0.0</td>\n",
       "      <td>1.0</td>\n",
       "      <td>2015.0</td>\n",
       "      <td>2011</td>\n",
       "      <td>12</td>\n",
       "      <td>1</td>\n",
       "    </tr>\n",
       "    <tr>\n",
       "      <th>5</th>\n",
       "      <td>5000</td>\n",
       "      <td>36</td>\n",
       "      <td>7.90</td>\n",
       "      <td>156.46</td>\n",
       "      <td>36000.0</td>\n",
       "      <td>85.6</td>\n",
       "      <td>12.0</td>\n",
       "      <td>5632.210000</td>\n",
       "      <td>0.00</td>\n",
       "      <td>0.0</td>\n",
       "      <td>1.0</td>\n",
       "      <td>2015.0</td>\n",
       "      <td>2011</td>\n",
       "      <td>12</td>\n",
       "      <td>3</td>\n",
       "    </tr>\n",
       "    <tr>\n",
       "      <th>...</th>\n",
       "      <td>...</td>\n",
       "      <td>...</td>\n",
       "      <td>...</td>\n",
       "      <td>...</td>\n",
       "      <td>...</td>\n",
       "      <td>...</td>\n",
       "      <td>...</td>\n",
       "      <td>...</td>\n",
       "      <td>...</td>\n",
       "      <td>...</td>\n",
       "      <td>...</td>\n",
       "      <td>...</td>\n",
       "      <td>...</td>\n",
       "      <td>...</td>\n",
       "      <td>...</td>\n",
       "    </tr>\n",
       "    <tr>\n",
       "      <th>39781</th>\n",
       "      <td>2500</td>\n",
       "      <td>36</td>\n",
       "      <td>8.07</td>\n",
       "      <td>78.42</td>\n",
       "      <td>110000.0</td>\n",
       "      <td>0.0</td>\n",
       "      <td>40.0</td>\n",
       "      <td>2822.969293</td>\n",
       "      <td>0.00</td>\n",
       "      <td>0.0</td>\n",
       "      <td>7.0</td>\n",
       "      <td>2010.0</td>\n",
       "      <td>2007</td>\n",
       "      <td>7</td>\n",
       "      <td>4</td>\n",
       "    </tr>\n",
       "    <tr>\n",
       "      <th>39782</th>\n",
       "      <td>8500</td>\n",
       "      <td>36</td>\n",
       "      <td>10.28</td>\n",
       "      <td>275.38</td>\n",
       "      <td>18000.0</td>\n",
       "      <td>0.0</td>\n",
       "      <td>9.0</td>\n",
       "      <td>9913.491822</td>\n",
       "      <td>0.00</td>\n",
       "      <td>0.0</td>\n",
       "      <td>7.0</td>\n",
       "      <td>2010.0</td>\n",
       "      <td>2007</td>\n",
       "      <td>7</td>\n",
       "      <td>3</td>\n",
       "    </tr>\n",
       "    <tr>\n",
       "      <th>39783</th>\n",
       "      <td>5000</td>\n",
       "      <td>36</td>\n",
       "      <td>8.07</td>\n",
       "      <td>156.84</td>\n",
       "      <td>100000.0</td>\n",
       "      <td>0.0</td>\n",
       "      <td>20.0</td>\n",
       "      <td>5272.161128</td>\n",
       "      <td>0.00</td>\n",
       "      <td>0.0</td>\n",
       "      <td>4.0</td>\n",
       "      <td>2008.0</td>\n",
       "      <td>2007</td>\n",
       "      <td>7</td>\n",
       "      <td>10</td>\n",
       "    </tr>\n",
       "    <tr>\n",
       "      <th>39784</th>\n",
       "      <td>5000</td>\n",
       "      <td>36</td>\n",
       "      <td>7.43</td>\n",
       "      <td>155.38</td>\n",
       "      <td>200000.0</td>\n",
       "      <td>0.0</td>\n",
       "      <td>26.0</td>\n",
       "      <td>5174.198551</td>\n",
       "      <td>0.00</td>\n",
       "      <td>0.0</td>\n",
       "      <td>1.0</td>\n",
       "      <td>2008.0</td>\n",
       "      <td>2007</td>\n",
       "      <td>7</td>\n",
       "      <td>10</td>\n",
       "    </tr>\n",
       "    <tr>\n",
       "      <th>39785</th>\n",
       "      <td>7500</td>\n",
       "      <td>36</td>\n",
       "      <td>13.75</td>\n",
       "      <td>255.43</td>\n",
       "      <td>22000.0</td>\n",
       "      <td>0.0</td>\n",
       "      <td>8.0</td>\n",
       "      <td>9195.263334</td>\n",
       "      <td>0.00</td>\n",
       "      <td>0.0</td>\n",
       "      <td>6.0</td>\n",
       "      <td>2010.0</td>\n",
       "      <td>2007</td>\n",
       "      <td>6</td>\n",
       "      <td>10</td>\n",
       "    </tr>\n",
       "  </tbody>\n",
       "</table>\n",
       "<p>38116 rows × 15 columns</p>\n",
       "</div>"
      ],
      "text/plain": [
       "       loan_amnt  term  int_rate  installment  annual_inc  revol_util  \\\n",
       "0           5000    36     10.65       162.87     24000.0        83.7   \n",
       "1           2500    60     15.27        59.83     30000.0         9.4   \n",
       "2           2400    36     15.96        84.33     12252.0        98.5   \n",
       "3          10000    36     13.49       339.31     49200.0        21.0   \n",
       "5           5000    36      7.90       156.46     36000.0        85.6   \n",
       "...          ...   ...       ...          ...         ...         ...   \n",
       "39781       2500    36      8.07        78.42    110000.0         0.0   \n",
       "39782       8500    36     10.28       275.38     18000.0         0.0   \n",
       "39783       5000    36      8.07       156.84    100000.0         0.0   \n",
       "39784       5000    36      7.43       155.38    200000.0         0.0   \n",
       "39785       7500    36     13.75       255.43     22000.0         0.0   \n",
       "\n",
       "       total_acc   total_pymnt  total_rec_late_fee  pub_rec_bankruptcies  \\\n",
       "0            9.0   5863.155187                0.00                   0.0   \n",
       "1            4.0   1008.710000                0.00                   0.0   \n",
       "2           10.0   3005.666844                0.00                   0.0   \n",
       "3           37.0  12231.890000               16.97                   0.0   \n",
       "5           12.0   5632.210000                0.00                   0.0   \n",
       "...          ...           ...                 ...                   ...   \n",
       "39781       40.0   2822.969293                0.00                   0.0   \n",
       "39782        9.0   9913.491822                0.00                   0.0   \n",
       "39783       20.0   5272.161128                0.00                   0.0   \n",
       "39784       26.0   5174.198551                0.00                   0.0   \n",
       "39785        8.0   9195.263334                0.00                   0.0   \n",
       "\n",
       "       last_pymnt_month  last_pymnt_year  issue_year  issue_month  \\\n",
       "0                   1.0           2015.0        2011           12   \n",
       "1                   4.0           2013.0        2011           12   \n",
       "2                   6.0           2014.0        2011           12   \n",
       "3                   1.0           2015.0        2011           12   \n",
       "5                   1.0           2015.0        2011           12   \n",
       "...                 ...              ...         ...          ...   \n",
       "39781               7.0           2010.0        2007            7   \n",
       "39782               7.0           2010.0        2007            7   \n",
       "39783               4.0           2008.0        2007            7   \n",
       "39784               1.0           2008.0        2007            7   \n",
       "39785               6.0           2010.0        2007            6   \n",
       "\n",
       "       emp_length_en  \n",
       "0                  1  \n",
       "1                 10  \n",
       "2                  1  \n",
       "3                  1  \n",
       "5                  3  \n",
       "...              ...  \n",
       "39781              4  \n",
       "39782              3  \n",
       "39783             10  \n",
       "39784             10  \n",
       "39785             10  \n",
       "\n",
       "[38116 rows x 15 columns]"
      ]
     },
     "execution_count": 149,
     "metadata": {},
     "output_type": "execute_result"
    }
   ],
   "source": [
    "x"
   ]
  },
  {
   "cell_type": "code",
   "execution_count": 150,
   "id": "ddc5dded",
   "metadata": {},
   "outputs": [
    {
     "data": {
      "text/plain": [
       "0        1\n",
       "1        0\n",
       "2        1\n",
       "3        1\n",
       "5        1\n",
       "        ..\n",
       "39781    1\n",
       "39782    1\n",
       "39783    1\n",
       "39784    1\n",
       "39785    1\n",
       "Name: loan_status_en, Length: 38116, dtype: int64"
      ]
     },
     "execution_count": 150,
     "metadata": {},
     "output_type": "execute_result"
    }
   ],
   "source": [
    "y"
   ]
  },
  {
   "cell_type": "code",
   "execution_count": null,
   "id": "080447f3",
   "metadata": {},
   "outputs": [],
   "source": []
  },
  {
   "cell_type": "markdown",
   "id": "9baf4aaf",
   "metadata": {},
   "source": [
    "Train test splitting"
   ]
  },
  {
   "cell_type": "code",
   "execution_count": 151,
   "id": "f7585e5a",
   "metadata": {},
   "outputs": [],
   "source": [
    "x_train,x_test,y_train,y_test = train_test_split(x,y,test_size=0.3,random_state=100)"
   ]
  },
  {
   "cell_type": "code",
   "execution_count": 152,
   "id": "14577829",
   "metadata": {},
   "outputs": [
    {
     "name": "stdout",
     "output_type": "stream",
     "text": [
      "x :  (26681, 15) (11435, 15)\n",
      "y :  (26681,) (11435,)\n"
     ]
    }
   ],
   "source": [
    "print(\"x : \",x_train.shape,x_test.shape)\n",
    "print(\"y : \",y_train.shape,y_test.shape)"
   ]
  },
  {
   "cell_type": "code",
   "execution_count": null,
   "id": "082a7dbe",
   "metadata": {},
   "outputs": [],
   "source": []
  },
  {
   "cell_type": "code",
   "execution_count": 153,
   "id": "207bf587",
   "metadata": {},
   "outputs": [],
   "source": [
    "dtr1 = DecisionTreeClassifier(criterion = \"gini\")"
   ]
  },
  {
   "cell_type": "code",
   "execution_count": 154,
   "id": "c9b3804a",
   "metadata": {},
   "outputs": [],
   "source": [
    "dtr2 = DecisionTreeClassifier(criterion = \"entropy\")"
   ]
  },
  {
   "cell_type": "code",
   "execution_count": 155,
   "id": "9ec7f503",
   "metadata": {},
   "outputs": [
    {
     "data": {
      "text/plain": [
       "DecisionTreeClassifier()"
      ]
     },
     "execution_count": 155,
     "metadata": {},
     "output_type": "execute_result"
    }
   ],
   "source": [
    "dtr1.fit(x_train,y_train)"
   ]
  },
  {
   "cell_type": "code",
   "execution_count": 156,
   "id": "6cb89c9d",
   "metadata": {},
   "outputs": [
    {
     "data": {
      "text/plain": [
       "DecisionTreeClassifier(criterion='entropy')"
      ]
     },
     "execution_count": 156,
     "metadata": {},
     "output_type": "execute_result"
    }
   ],
   "source": [
    "dtr2.fit(x_train,y_train)"
   ]
  },
  {
   "cell_type": "code",
   "execution_count": 157,
   "id": "75048812",
   "metadata": {},
   "outputs": [],
   "source": [
    "predictions1 = dtr1.predict(x_test)"
   ]
  },
  {
   "cell_type": "code",
   "execution_count": 158,
   "id": "648611e2",
   "metadata": {},
   "outputs": [],
   "source": [
    "predictions2 = dtr2.predict(x_test)"
   ]
  },
  {
   "cell_type": "code",
   "execution_count": 159,
   "id": "878178fa",
   "metadata": {},
   "outputs": [],
   "source": [
    "cm_dtr1 = confusion_matrix(y_test,predictions1)"
   ]
  },
  {
   "cell_type": "code",
   "execution_count": 160,
   "id": "cd7bef4a",
   "metadata": {},
   "outputs": [],
   "source": [
    "cm_dtr2 = confusion_matrix(y_test,predictions2)"
   ]
  },
  {
   "cell_type": "code",
   "execution_count": 161,
   "id": "7b39676e",
   "metadata": {},
   "outputs": [
    {
     "data": {
      "text/plain": [
       "array([[1374,  165],\n",
       "       [ 226, 9670]])"
      ]
     },
     "execution_count": 161,
     "metadata": {},
     "output_type": "execute_result"
    }
   ],
   "source": [
    "cm_dtr1"
   ]
  },
  {
   "cell_type": "code",
   "execution_count": 162,
   "id": "65a98046",
   "metadata": {},
   "outputs": [
    {
     "data": {
      "text/plain": [
       "array([[1397,  142],\n",
       "       [ 176, 9720]])"
      ]
     },
     "execution_count": 162,
     "metadata": {},
     "output_type": "execute_result"
    }
   ],
   "source": [
    "cm_dtr2"
   ]
  },
  {
   "cell_type": "code",
   "execution_count": 163,
   "id": "1249b111",
   "metadata": {},
   "outputs": [
    {
     "name": "stderr",
     "output_type": "stream",
     "text": [
      "/home/chinmay/study/lending_club_analysis/envr/lib/python3.8/site-packages/sklearn/base.py:450: UserWarning: X does not have valid feature names, but DecisionTreeClassifier was fitted with feature names\n",
      "  warnings.warn(\n"
     ]
    },
    {
     "data": {
      "text/plain": [
       "array([1])"
      ]
     },
     "execution_count": 163,
     "metadata": {},
     "output_type": "execute_result"
    }
   ],
   "source": [
    "dtr1.predict([[5000,36,10.65,162.87,24000.0,83.7,9.0,5863.155187,0.00,0.0,1.0,2015.0,2011,12,1]])"
   ]
  },
  {
   "cell_type": "code",
   "execution_count": 164,
   "id": "c31465a3",
   "metadata": {},
   "outputs": [
    {
     "data": {
      "text/plain": [
       "0.03419326628771316"
      ]
     },
     "execution_count": 164,
     "metadata": {},
     "output_type": "execute_result"
    }
   ],
   "source": [
    "mean_squared_error(y_test,predictions1)"
   ]
  },
  {
   "cell_type": "code",
   "execution_count": 165,
   "id": "6bc40199",
   "metadata": {},
   "outputs": [
    {
     "data": {
      "text/plain": [
       "0.02780935723655444"
      ]
     },
     "execution_count": 165,
     "metadata": {},
     "output_type": "execute_result"
    }
   ],
   "source": [
    "mean_squared_error(y_test,predictions2)"
   ]
  },
  {
   "cell_type": "code",
   "execution_count": 166,
   "id": "66e83e0f",
   "metadata": {},
   "outputs": [
    {
     "data": {
      "text/plain": [
       "96.58067337122868"
      ]
     },
     "execution_count": 166,
     "metadata": {},
     "output_type": "execute_result"
    }
   ],
   "source": [
    "dtr1.score(x_test,y_test) * 100"
   ]
  },
  {
   "cell_type": "code",
   "execution_count": 189,
   "id": "c2ab61a4",
   "metadata": {},
   "outputs": [
    {
     "name": "stdout",
     "output_type": "stream",
     "text": [
      "Test accuracy : \n",
      "Gini :  96.58067337122868\n",
      "Entropy :  97.21906427634455\n"
     ]
    }
   ],
   "source": [
    "print(\"Test accuracy : \")\n",
    "print(\"Gini : \",dtr1.score(x_test,y_test) * 100)\n",
    "print(\"Entropy : \", dtr2.score(x_test,y_test) * 100)"
   ]
  },
  {
   "cell_type": "code",
   "execution_count": null,
   "id": "881f0120",
   "metadata": {},
   "outputs": [],
   "source": []
  },
  {
   "cell_type": "code",
   "execution_count": 168,
   "id": "ebad4bca",
   "metadata": {},
   "outputs": [],
   "source": [
    "rf1 = RandomForestClassifier(criterion = \"gini\")\n",
    "rf2 = RandomForestClassifier(criterion = \"entropy\")"
   ]
  },
  {
   "cell_type": "code",
   "execution_count": 169,
   "id": "dda235ec",
   "metadata": {},
   "outputs": [
    {
     "data": {
      "text/plain": [
       "RandomForestClassifier()"
      ]
     },
     "execution_count": 169,
     "metadata": {},
     "output_type": "execute_result"
    }
   ],
   "source": [
    "rf1.fit(x_train,y_train)"
   ]
  },
  {
   "cell_type": "code",
   "execution_count": 170,
   "id": "f759f63f",
   "metadata": {},
   "outputs": [
    {
     "data": {
      "text/plain": [
       "RandomForestClassifier(criterion='entropy')"
      ]
     },
     "execution_count": 170,
     "metadata": {},
     "output_type": "execute_result"
    }
   ],
   "source": [
    "rf2.fit(x_train,y_train)"
   ]
  },
  {
   "cell_type": "code",
   "execution_count": 171,
   "id": "9580300b",
   "metadata": {},
   "outputs": [],
   "source": [
    "predictions_rf1 = rf1.predict(x_test)"
   ]
  },
  {
   "cell_type": "code",
   "execution_count": 172,
   "id": "3ba942e5",
   "metadata": {},
   "outputs": [],
   "source": [
    "predictions_rf2 = rf2.predict(x_test)"
   ]
  },
  {
   "cell_type": "code",
   "execution_count": 173,
   "id": "dba0f6c2",
   "metadata": {},
   "outputs": [],
   "source": [
    "cm_rf1 = confusion_matrix(y_test,predictions_rf1)\n",
    "cm_rf2 = confusion_matrix(y_test,predictions_rf2)"
   ]
  },
  {
   "cell_type": "code",
   "execution_count": 174,
   "id": "b5c68d7f",
   "metadata": {},
   "outputs": [
    {
     "data": {
      "text/plain": [
       "array([[1172,  367],\n",
       "       [  10, 9886]])"
      ]
     },
     "execution_count": 174,
     "metadata": {},
     "output_type": "execute_result"
    }
   ],
   "source": [
    "cm_rf1"
   ]
  },
  {
   "cell_type": "code",
   "execution_count": 175,
   "id": "3ddf9f69",
   "metadata": {},
   "outputs": [
    {
     "data": {
      "text/plain": [
       "array([[1196,  343],\n",
       "       [  10, 9886]])"
      ]
     },
     "execution_count": 175,
     "metadata": {},
     "output_type": "execute_result"
    }
   ],
   "source": [
    "cm_rf2"
   ]
  },
  {
   "cell_type": "code",
   "execution_count": 176,
   "id": "bf502a54",
   "metadata": {},
   "outputs": [
    {
     "data": {
      "text/plain": [
       "0.032968954962833405"
      ]
     },
     "execution_count": 176,
     "metadata": {},
     "output_type": "execute_result"
    }
   ],
   "source": [
    "mean_squared_error(y_test,predictions_rf1)"
   ]
  },
  {
   "cell_type": "code",
   "execution_count": 177,
   "id": "d499a10e",
   "metadata": {},
   "outputs": [
    {
     "data": {
      "text/plain": [
       "0.030870135548753827"
      ]
     },
     "execution_count": 177,
     "metadata": {},
     "output_type": "execute_result"
    }
   ],
   "source": [
    "mean_squared_error(y_test,predictions_rf2)"
   ]
  },
  {
   "cell_type": "code",
   "execution_count": 178,
   "id": "e72b4521",
   "metadata": {},
   "outputs": [
    {
     "data": {
      "text/plain": [
       "96.70310450371666"
      ]
     },
     "execution_count": 178,
     "metadata": {},
     "output_type": "execute_result"
    }
   ],
   "source": [
    "rf1.score(x_test,y_test) *100"
   ]
  },
  {
   "cell_type": "code",
   "execution_count": 179,
   "id": "fe3abb43",
   "metadata": {},
   "outputs": [
    {
     "data": {
      "text/plain": [
       "96.91298644512462"
      ]
     },
     "execution_count": 179,
     "metadata": {},
     "output_type": "execute_result"
    }
   ],
   "source": [
    "rf2.score(x_test,y_test) * 100"
   ]
  },
  {
   "cell_type": "code",
   "execution_count": null,
   "id": "9472fb95",
   "metadata": {},
   "outputs": [],
   "source": []
  },
  {
   "cell_type": "code",
   "execution_count": null,
   "id": "f59c3603",
   "metadata": {},
   "outputs": [],
   "source": []
  },
  {
   "cell_type": "code",
   "execution_count": 180,
   "id": "2cc2d28a",
   "metadata": {},
   "outputs": [],
   "source": [
    "logr = LogisticRegression()"
   ]
  },
  {
   "cell_type": "code",
   "execution_count": 181,
   "id": "2be0eacf",
   "metadata": {},
   "outputs": [
    {
     "name": "stderr",
     "output_type": "stream",
     "text": [
      "/home/chinmay/study/lending_club_analysis/envr/lib/python3.8/site-packages/sklearn/linear_model/_logistic.py:814: ConvergenceWarning: lbfgs failed to converge (status=1):\n",
      "STOP: TOTAL NO. of ITERATIONS REACHED LIMIT.\n",
      "\n",
      "Increase the number of iterations (max_iter) or scale the data as shown in:\n",
      "    https://scikit-learn.org/stable/modules/preprocessing.html\n",
      "Please also refer to the documentation for alternative solver options:\n",
      "    https://scikit-learn.org/stable/modules/linear_model.html#logistic-regression\n",
      "  n_iter_i = _check_optimize_result(\n"
     ]
    },
    {
     "data": {
      "text/plain": [
       "LogisticRegression()"
      ]
     },
     "execution_count": 181,
     "metadata": {},
     "output_type": "execute_result"
    }
   ],
   "source": [
    "logr.fit(x_train,y_train)"
   ]
  },
  {
   "cell_type": "code",
   "execution_count": 182,
   "id": "050e1303",
   "metadata": {},
   "outputs": [],
   "source": [
    "preditions_logr = logr.predict(x_test)"
   ]
  },
  {
   "cell_type": "code",
   "execution_count": 183,
   "id": "25e5f995",
   "metadata": {},
   "outputs": [
    {
     "data": {
      "text/plain": [
       "array([1, 0, 0, ..., 0, 1, 1])"
      ]
     },
     "execution_count": 183,
     "metadata": {},
     "output_type": "execute_result"
    }
   ],
   "source": [
    "preditions_logr"
   ]
  },
  {
   "cell_type": "code",
   "execution_count": 184,
   "id": "a1d54728",
   "metadata": {},
   "outputs": [],
   "source": [
    "cm_logr = confusion_matrix(y_test,preditions_logr)"
   ]
  },
  {
   "cell_type": "code",
   "execution_count": 185,
   "id": "865b83c0",
   "metadata": {},
   "outputs": [
    {
     "data": {
      "text/plain": [
       "array([[1149,  390],\n",
       "       [  62, 9834]])"
      ]
     },
     "execution_count": 185,
     "metadata": {},
     "output_type": "execute_result"
    }
   ],
   "source": [
    "cm_logr"
   ]
  },
  {
   "cell_type": "code",
   "execution_count": 186,
   "id": "a3e37a3f",
   "metadata": {},
   "outputs": [
    {
     "data": {
      "text/plain": [
       "0.19881590890024897"
      ]
     },
     "execution_count": 186,
     "metadata": {},
     "output_type": "execute_result"
    }
   ],
   "source": [
    "mean_squared_error(y_test,preditions_logr,squared=False)"
   ]
  },
  {
   "cell_type": "code",
   "execution_count": 187,
   "id": "8d950ed6",
   "metadata": {},
   "outputs": [
    {
     "data": {
      "text/plain": [
       "96.0472234368168"
      ]
     },
     "execution_count": 187,
     "metadata": {},
     "output_type": "execute_result"
    }
   ],
   "source": [
    "logr.score(x_test,y_test) * 100"
   ]
  },
  {
   "cell_type": "code",
   "execution_count": null,
   "id": "9d450202",
   "metadata": {},
   "outputs": [],
   "source": []
  },
  {
   "cell_type": "code",
   "execution_count": null,
   "id": "4772e48c",
   "metadata": {},
   "outputs": [],
   "source": []
  },
  {
   "cell_type": "code",
   "execution_count": null,
   "id": "d29fa1fc",
   "metadata": {},
   "outputs": [],
   "source": []
  }
 ],
 "metadata": {
  "kernelspec": {
   "display_name": "Python 3 (ipykernel)",
   "language": "python",
   "name": "python3"
  },
  "language_info": {
   "codemirror_mode": {
    "name": "ipython",
    "version": 3
   },
   "file_extension": ".py",
   "mimetype": "text/x-python",
   "name": "python",
   "nbconvert_exporter": "python",
   "pygments_lexer": "ipython3",
   "version": "3.8.10"
  }
 },
 "nbformat": 4,
 "nbformat_minor": 5
}
